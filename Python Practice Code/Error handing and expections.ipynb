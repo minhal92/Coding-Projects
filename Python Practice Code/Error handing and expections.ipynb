{
 "cells": [
  {
   "cell_type": "markdown",
   "id": "d2b422f5",
   "metadata": {},
   "source": [
    "# Keywords for exception handling\n",
    "\n",
    "try : Block of code attempted (might lead to an error)\n",
    "\n",
    "except: The block of code that will execute if there is an error in the try block\n",
    "\n",
    "finally: a block of code that is executed when there is an error"
   ]
  },
  {
   "cell_type": "code",
   "execution_count": 3,
   "id": "b44efe18",
   "metadata": {},
   "outputs": [
    {
     "name": "stdout",
     "output_type": "stream",
     "text": [
      "30\n"
     ]
    }
   ],
   "source": [
    "def add(n1,n2):\n",
    "    print(n1+n2)\n",
    "add(10,20)"
   ]
  },
  {
   "cell_type": "code",
   "execution_count": 5,
   "id": "551e764d",
   "metadata": {},
   "outputs": [
    {
     "name": "stdout",
     "output_type": "stream",
     "text": [
      "Please provide a number: 20\n"
     ]
    }
   ],
   "source": [
    "number1 = 10\n",
    "number2 = input('Please provide a number: ')"
   ]
  },
  {
   "cell_type": "code",
   "execution_count": 13,
   "id": "15742c35",
   "metadata": {},
   "outputs": [
    {
     "ename": "TypeError",
     "evalue": "unsupported operand type(s) for +: 'int' and 'str'",
     "output_type": "error",
     "traceback": [
      "\u001b[1;31m---------------------------------------------------------------------------\u001b[0m",
      "\u001b[1;31mTypeError\u001b[0m                                 Traceback (most recent call last)",
      "\u001b[1;32m<ipython-input-13-77a6c81dd7be>\u001b[0m in \u001b[0;36m<module>\u001b[1;34m\u001b[0m\n\u001b[1;32m----> 1\u001b[1;33m \u001b[0madd\u001b[0m\u001b[1;33m(\u001b[0m\u001b[0mnumber1\u001b[0m\u001b[1;33m,\u001b[0m\u001b[0mnumber2\u001b[0m\u001b[1;33m)\u001b[0m\u001b[1;33m\u001b[0m\u001b[1;33m\u001b[0m\u001b[0m\n\u001b[0m\u001b[0;32m      2\u001b[0m \u001b[1;31m# this results in a type error because number 2 in a string\u001b[0m\u001b[1;33m\u001b[0m\u001b[1;33m\u001b[0m\u001b[1;33m\u001b[0m\u001b[0m\n\u001b[0;32m      3\u001b[0m \u001b[1;31m# TypeError: unsupported operand type(s) for +: 'int' and 'str\u001b[0m\u001b[1;33m\u001b[0m\u001b[1;33m\u001b[0m\u001b[1;33m\u001b[0m\u001b[0m\n",
      "\u001b[1;32m<ipython-input-3-37fd97f202cc>\u001b[0m in \u001b[0;36madd\u001b[1;34m(n1, n2)\u001b[0m\n\u001b[0;32m      1\u001b[0m \u001b[1;32mdef\u001b[0m \u001b[0madd\u001b[0m\u001b[1;33m(\u001b[0m\u001b[0mn1\u001b[0m\u001b[1;33m,\u001b[0m\u001b[0mn2\u001b[0m\u001b[1;33m)\u001b[0m\u001b[1;33m:\u001b[0m\u001b[1;33m\u001b[0m\u001b[1;33m\u001b[0m\u001b[0m\n\u001b[1;32m----> 2\u001b[1;33m     \u001b[0mprint\u001b[0m\u001b[1;33m(\u001b[0m\u001b[0mn1\u001b[0m\u001b[1;33m+\u001b[0m\u001b[0mn2\u001b[0m\u001b[1;33m)\u001b[0m\u001b[1;33m\u001b[0m\u001b[1;33m\u001b[0m\u001b[0m\n\u001b[0m\u001b[0;32m      3\u001b[0m \u001b[0madd\u001b[0m\u001b[1;33m(\u001b[0m\u001b[1;36m10\u001b[0m\u001b[1;33m,\u001b[0m\u001b[1;36m20\u001b[0m\u001b[1;33m)\u001b[0m\u001b[1;33m\u001b[0m\u001b[1;33m\u001b[0m\u001b[0m\n",
      "\u001b[1;31mTypeError\u001b[0m: unsupported operand type(s) for +: 'int' and 'str'"
     ]
    }
   ],
   "source": [
    "add(number1,number2)\n",
    "# this results in a type error because number 2 in a string\n",
    "# TypeError: unsupported operand type(s) for +: 'int' and 'str"
   ]
  },
  {
   "cell_type": "code",
   "execution_count": 12,
   "id": "9d0cb6ad",
   "metadata": {},
   "outputs": [
    {
     "name": "stdout",
     "output_type": "stream",
     "text": [
      "Hey, it looks like you aren't adding correcltly\n"
     ]
    }
   ],
   "source": [
    "try: \n",
    "    # Want to try this code\n",
    "    # But this code may have an error\n",
    "    result = 10 + '10'\n",
    "except:\n",
    "    print('Hey, it looks like you aren\\'t adding correcltly')"
   ]
  },
  {
   "cell_type": "code",
   "execution_count": 16,
   "id": "2ebdce7d",
   "metadata": {},
   "outputs": [
    {
     "name": "stdout",
     "output_type": "stream",
     "text": [
      "Add went well\n",
      "20\n"
     ]
    }
   ],
   "source": [
    "# when you changed the second number to a string then\n",
    "# there is no more error\n",
    "\n",
    "try: \n",
    "    # Want to try this code\n",
    "    # But this code may have an error\n",
    "    result = 10 + 10\n",
    "except:\n",
    "    print('Hey, it looks like you aren\\'t adding correcltly')\n",
    "else: # Else to the except\n",
    "    print('Add went well')\n",
    "    print(result)"
   ]
  },
  {
   "cell_type": "code",
   "execution_count": 20,
   "id": "fd139c34",
   "metadata": {},
   "outputs": [
    {
     "name": "stdout",
     "output_type": "stream",
     "text": [
      "I always run\n"
     ]
    }
   ],
   "source": [
    "try: # try to attempt this block of code\n",
    "    f=open('testfile','w') # open with read only permission\n",
    "    f.write(\"write a test file\")\n",
    "except TypeError: # error for a certian type\n",
    "    print('There was a type error')\n",
    "except OSError: # Occours when you don't have correct permission\n",
    "    print('Hey you have an OS error')\n",
    "except:\n",
    "    print('All other exceptions')\n",
    "finally: # Always runs no matter not\n",
    "    print('I always run')"
   ]
  },
  {
   "cell_type": "code",
   "execution_count": 29,
   "id": "25db8515",
   "metadata": {},
   "outputs": [],
   "source": [
    "def ask_for_int():\n",
    "    while True:\n",
    "        try:\n",
    "            result = int(input('Please prvide an interger: '))\n",
    "        except:\n",
    "            print('BRUH that ain\\'t a numba')\n",
    "            continue\n",
    "        else: #That means there is no exception\n",
    "            print('gz bruh that\\'s a nubma')\n",
    "            break \n",
    "        finally: \n",
    "            print('Exend of try/except/finally')\n",
    "            print('I run no matter what')"
   ]
  },
  {
   "cell_type": "code",
   "execution_count": 28,
   "id": "5bcbfba7",
   "metadata": {},
   "outputs": [
    {
     "name": "stdout",
     "output_type": "stream",
     "text": [
      "Please prvide an interger: l\n",
      "BRUH that ain't a numba\n",
      "Exend of try/except/finally\n",
      "Please prvide an interger: dude\n",
      "BRUH that ain't a numba\n",
      "Exend of try/except/finally\n",
      "Please prvide an interger: fuck off\n",
      "BRUH that ain't a numba\n",
      "Exend of try/except/finally\n",
      "Please prvide an interger: s\n",
      "BRUH that ain't a numba\n",
      "Exend of try/except/finally\n",
      "Please prvide an interger: 1\n",
      "gz bruh that's a nubma\n",
      "Exend of try/except/finally\n"
     ]
    }
   ],
   "source": [
    "ask_for_int()"
   ]
  },
  {
   "cell_type": "code",
   "execution_count": null,
   "id": "b9f47262",
   "metadata": {},
   "outputs": [],
   "source": []
  }
 ],
 "metadata": {
  "kernelspec": {
   "display_name": "Python 3",
   "language": "python",
   "name": "python3"
  },
  "language_info": {
   "codemirror_mode": {
    "name": "ipython",
    "version": 3
   },
   "file_extension": ".py",
   "mimetype": "text/x-python",
   "name": "python",
   "nbconvert_exporter": "python",
   "pygments_lexer": "ipython3",
   "version": "3.8.8"
  }
 },
 "nbformat": 4,
 "nbformat_minor": 5
}
