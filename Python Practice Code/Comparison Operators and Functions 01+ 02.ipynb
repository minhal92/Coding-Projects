{
 "cells": [
  {
   "cell_type": "markdown",
   "id": "3f0a463f",
   "metadata": {},
   "source": [
    "Comparision operators Python practice (Section 1 Udemy course)"
   ]
  },
  {
   "cell_type": "code",
   "execution_count": 1,
   "id": "d38066de",
   "metadata": {},
   "outputs": [
    {
     "data": {
      "text/plain": [
       "True"
      ]
     },
     "execution_count": 1,
     "metadata": {},
     "output_type": "execute_result"
    }
   ],
   "source": [
    "2<3 #Single comparision"
   ]
  },
  {
   "cell_type": "code",
   "execution_count": 2,
   "id": "ddb64bf0",
   "metadata": {},
   "outputs": [
    {
     "data": {
      "text/plain": [
       "False"
      ]
     },
     "execution_count": 2,
     "metadata": {},
     "output_type": "execute_result"
    }
   ],
   "source": [
    "1<2 and 2 < 2 # Chceks both at same time"
   ]
  },
  {
   "cell_type": "code",
   "execution_count": 3,
   "id": "3b11cb5f",
   "metadata": {},
   "outputs": [
    {
     "data": {
      "text/plain": [
       "True"
      ]
     },
     "execution_count": 3,
     "metadata": {},
     "output_type": "execute_result"
    }
   ],
   "source": [
    "(1<2) or (3<2) # Checls both at same time"
   ]
  },
  {
   "cell_type": "code",
   "execution_count": 4,
   "id": "cd16b0da",
   "metadata": {},
   "outputs": [],
   "source": [
    "#for the opposite bolean (i.e. ~ in MATLAB)"
   ]
  },
  {
   "cell_type": "code",
   "execution_count": 5,
   "id": "e9243938",
   "metadata": {},
   "outputs": [
    {
     "data": {
      "text/plain": [
       "True"
      ]
     },
     "execution_count": 5,
     "metadata": {},
     "output_type": "execute_result"
    }
   ],
   "source": [
    "not(400>500)"
   ]
  },
  {
   "cell_type": "code",
   "execution_count": 6,
   "id": "d52bd69b",
   "metadata": {},
   "outputs": [
    {
     "data": {
      "text/plain": [
       "True"
      ]
     },
     "execution_count": 6,
     "metadata": {},
     "output_type": "execute_result"
    }
   ],
   "source": [
    "2<4"
   ]
  },
  {
   "cell_type": "code",
   "execution_count": 7,
   "id": "3a88be2b",
   "metadata": {},
   "outputs": [
    {
     "data": {
      "text/plain": [
       "False"
      ]
     },
     "execution_count": 7,
     "metadata": {},
     "output_type": "execute_result"
    }
   ],
   "source": [
    "12!=12"
   ]
  },
  {
   "cell_type": "code",
   "execution_count": 8,
   "id": "55036966",
   "metadata": {},
   "outputs": [
    {
     "data": {
      "text/plain": [
       "False"
      ]
     },
     "execution_count": 8,
     "metadata": {},
     "output_type": "execute_result"
    }
   ],
   "source": [
    "2<3>10"
   ]
  },
  {
   "cell_type": "code",
   "execution_count": 9,
   "id": "a395eab9",
   "metadata": {},
   "outputs": [
    {
     "data": {
      "text/plain": [
       "True"
      ]
     },
     "execution_count": 9,
     "metadata": {},
     "output_type": "execute_result"
    }
   ],
   "source": [
    "2<=3>=1"
   ]
  },
  {
   "cell_type": "code",
   "execution_count": 10,
   "id": "9370acb9",
   "metadata": {},
   "outputs": [],
   "source": [
    "#else and if else statements in Python\n",
    "#control flow in general (execute code when conditions met)"
   ]
  },
  {
   "cell_type": "code",
   "execution_count": 11,
   "id": "5f852d2c",
   "metadata": {},
   "outputs": [
    {
     "ename": "IndentationError",
     "evalue": "unexpected indent (<ipython-input-11-a04189ab4ccc>, line 4)",
     "output_type": "error",
     "traceback": [
      "\u001b[1;36m  File \u001b[1;32m\"<ipython-input-11-a04189ab4ccc>\"\u001b[1;36m, line \u001b[1;32m4\u001b[0m\n\u001b[1;33m    a=3\u001b[0m\n\u001b[1;37m    ^\u001b[0m\n\u001b[1;31mIndentationError\u001b[0m\u001b[1;31m:\u001b[0m unexpected indent\n"
     ]
    }
   ],
   "source": [
    "if 2>3:\n",
    "    a=2 #needs to be indented\n",
    "elseif: 2>4\n",
    "    a=3\n",
    "else:    \n",
    "    a=4    "
   ]
  },
  {
   "cell_type": "code",
   "execution_count": null,
   "id": "4e151537",
   "metadata": {},
   "outputs": [],
   "source": [
    "hungry= False\n",
    "if hungry:\n",
    "    print('Gib Meshi')\n",
    "else:\n",
    "    print('I\\'m Guuci')"
   ]
  },
  {
   "cell_type": "code",
   "execution_count": null,
   "id": "fe4735d0",
   "metadata": {},
   "outputs": [],
   "source": [
    "loc='Store'\n",
    "\n",
    "if loc=='Auto Shop':\n",
    "    print('Cars are kool')\n",
    "elif loc=='Bank':\n",
    "    print('Monies are awesum')\n",
    "elif loc=='Store':\n",
    "    print('Gambarimasyo')\n",
    "else:\n",
    "    print('Donno shit')\n",
    "\n",
    "#Indentation is always important\n",
    "#all elif and else should be on the same level as if\n",
    "#Remember to use the : at the end of the the line\n",
    "#After the condition "
   ]
  },
  {
   "cell_type": "markdown",
   "id": "8f2838d3",
   "metadata": {},
   "source": [
    "Iterative code"
   ]
  },
  {
   "cell_type": "code",
   "execution_count": null,
   "id": "0fe7af45",
   "metadata": {},
   "outputs": [],
   "source": [
    "#Sybtax for a loop on a list\n",
    "my_iterable = [1,2,3]\n",
    "for item_name in my_iterable:\n",
    "    print(item_name)\n",
    "# in is one of the key words used in python for loops"
   ]
  },
  {
   "cell_type": "code",
   "execution_count": null,
   "id": "959e44df",
   "metadata": {},
   "outputs": [],
   "source": [
    "mylist=[1,2,3,4,5,6,7,8,9,10]\n",
    "#Don't use a predefined variable name (i.e. list)\\\n",
    "# as the variable name"
   ]
  },
  {
   "cell_type": "code",
   "execution_count": null,
   "id": "709437d0",
   "metadata": {},
   "outputs": [],
   "source": [
    "for num in mylist:\n",
    "    print(num)"
   ]
  },
  {
   "cell_type": "code",
   "execution_count": null,
   "id": "ae82e493",
   "metadata": {},
   "outputs": [],
   "source": [
    "for num in mylist:\n",
    "    #Check for even numbers only\n",
    "    if num % 2 ==0: #If the remainder is 0\n",
    "        print(num)\n",
    "    else:\n",
    "        print(f'Odd Number: {num}')\n",
    "        #Using f string literal to replace"
   ]
  },
  {
   "cell_type": "code",
   "execution_count": null,
   "id": "2638c435",
   "metadata": {},
   "outputs": [],
   "source": [
    "#Now for loops with mathematics\n",
    "\n",
    "list_sum = 0\n",
    "\n",
    "for num in mylist:\n",
    "    list_sum = list_sum + num\n",
    "    \n",
    "print(list_sum)"
   ]
  },
  {
   "cell_type": "code",
   "execution_count": null,
   "id": "cdde39e0",
   "metadata": {},
   "outputs": [],
   "source": [
    "# Now strings and for loops\n",
    "\n",
    "mystring = 'Hello World'\n",
    "\n",
    "for letter in mystring:\n",
    "    print(letter)\n",
    "    #letter variable name can be anything\n",
    "    #The letter variable doesn't even need to be there"
   ]
  },
  {
   "cell_type": "code",
   "execution_count": null,
   "id": "2e40d937",
   "metadata": {},
   "outputs": [],
   "source": [
    "#Often _ is used as a blank variable name (i.e)\n",
    "\n",
    "for _ in 'Hello World':\n",
    "    print(_)"
   ]
  },
  {
   "cell_type": "code",
   "execution_count": null,
   "id": "74bbe4cc",
   "metadata": {},
   "outputs": [],
   "source": [
    "#Now create a tuple and they are specical in foor loops\n",
    "tup = (1,2,3)\n",
    "\n",
    "for item in tup:\n",
    "    print (item)"
   ]
  },
  {
   "cell_type": "code",
   "execution_count": 12,
   "id": "b7615a37",
   "metadata": {},
   "outputs": [
    {
     "data": {
      "text/plain": [
       "4"
      ]
     },
     "execution_count": 12,
     "metadata": {},
     "output_type": "execute_result"
    }
   ],
   "source": [
    "# Now create a list with tuple pairs in a list\n",
    "mylist = [(1,2),(3,4),(5,6),(7,8)]\n",
    "len(mylist)"
   ]
  },
  {
   "cell_type": "code",
   "execution_count": 16,
   "id": "5a20c381",
   "metadata": {},
   "outputs": [
    {
     "name": "stdout",
     "output_type": "stream",
     "text": [
      "2\n",
      "4\n",
      "6\n",
      "8\n"
     ]
    }
   ],
   "source": [
    "#This data strucutre (lists and tuples together)\n",
    "#Are used in tuple unpacking to acsess individual items\n",
    "#For example tuple unpacking for even numbers\n",
    "for (a,b) in mylist:\n",
    "    print(b)"
   ]
  },
  {
   "cell_type": "code",
   "execution_count": 18,
   "id": "c34cfcfc",
   "metadata": {},
   "outputs": [],
   "source": [
    "mylist=[(1,2,3),(4,5,6),(7,8,9)]\n",
    "mylist"
   ]
  },
  {
   "cell_type": "code",
   "execution_count": 19,
   "id": "1028146a",
   "metadata": {},
   "outputs": [
    {
     "name": "stdout",
     "output_type": "stream",
     "text": [
      "2\n",
      "5\n",
      "8\n"
     ]
    }
   ],
   "source": [
    "for a,b,c in mylist:\n",
    "    print(b)\n",
    "# You can unpack the tuple and get middle number"
   ]
  },
  {
   "cell_type": "code",
   "execution_count": 21,
   "id": "ac0b404c",
   "metadata": {},
   "outputs": [
    {
     "ename": "AttributeError",
     "evalue": "'dict' object has no attribute 'item'",
     "output_type": "error",
     "traceback": [
      "\u001b[1;31m---------------------------------------------------------------------------\u001b[0m",
      "\u001b[1;31mAttributeError\u001b[0m                            Traceback (most recent call last)",
      "\u001b[1;32m<ipython-input-21-bdc6d19b9cc2>\u001b[0m in \u001b[0;36m<module>\u001b[1;34m\u001b[0m\n\u001b[0;32m      2\u001b[0m \u001b[0md\u001b[0m\u001b[1;33m=\u001b[0m\u001b[1;33m{\u001b[0m\u001b[1;34m'k1'\u001b[0m\u001b[1;33m:\u001b[0m\u001b[1;36m1\u001b[0m\u001b[1;33m,\u001b[0m\u001b[1;34m'k2'\u001b[0m\u001b[1;33m:\u001b[0m\u001b[1;36m2\u001b[0m\u001b[1;33m,\u001b[0m\u001b[1;34m'k3'\u001b[0m\u001b[1;33m:\u001b[0m\u001b[1;36m3\u001b[0m\u001b[1;33m}\u001b[0m\u001b[1;33m\u001b[0m\u001b[1;33m\u001b[0m\u001b[0m\n\u001b[0;32m      3\u001b[0m \u001b[1;33m\u001b[0m\u001b[0m\n\u001b[1;32m----> 4\u001b[1;33m \u001b[1;32mfor\u001b[0m \u001b[0mitem\u001b[0m \u001b[1;32min\u001b[0m \u001b[0md\u001b[0m\u001b[1;33m.\u001b[0m\u001b[0mitem\u001b[0m\u001b[1;33m(\u001b[0m\u001b[1;33m)\u001b[0m\u001b[1;33m:\u001b[0m\u001b[1;33m\u001b[0m\u001b[1;33m\u001b[0m\u001b[0m\n\u001b[0m\u001b[0;32m      5\u001b[0m     \u001b[0mprint\u001b[0m\u001b[1;33m(\u001b[0m\u001b[0mitem\u001b[0m\u001b[1;33m)\u001b[0m\u001b[1;33m\u001b[0m\u001b[1;33m\u001b[0m\u001b[0m\n",
      "\u001b[1;31mAttributeError\u001b[0m: 'dict' object has no attribute 'item'"
     ]
    }
   ],
   "source": []
  },
  {
   "cell_type": "code",
   "execution_count": 23,
   "id": "0b3d6a55",
   "metadata": {},
   "outputs": [
    {
     "name": "stdout",
     "output_type": "stream",
     "text": [
      "('k1', 1)\n",
      "('k2', 2)\n",
      "('k3', 3)\n"
     ]
    }
   ],
   "source": [
    "d={'k1':1,'k2':2,'k3':3}\n",
    "#Now create a dictionary and check for loops with it\n",
    "\n",
    "for item in d.items():\n",
    "    print(item)\n",
    "    "
   ]
  },
  {
   "cell_type": "code",
   "execution_count": 25,
   "id": "6ae2b1dc",
   "metadata": {},
   "outputs": [
    {
     "name": "stdout",
     "output_type": "stream",
     "text": [
      "1\n",
      "2\n",
      "3\n"
     ]
    }
   ],
   "source": [
    "for value in d.values():\n",
    "    print(value)\n",
    "# You can get the values\n",
    "# Also note dictionaries are unordered and any\n",
    "#ordering is conincidenlity\n",
    "    "
   ]
  },
  {
   "cell_type": "code",
   "execution_count": 28,
   "id": "6216a4ac",
   "metadata": {},
   "outputs": [
    {
     "name": "stdout",
     "output_type": "stream",
     "text": [
      "The current value of x is 0\n",
      "The current value of x is 1\n",
      "The current value of x is 2\n",
      "The current value of x is 3\n",
      "The current value of x is 4\n",
      "x is now greater than 5\n"
     ]
    }
   ],
   "source": [
    "# Next is while loop\n",
    "\n",
    "x=0\n",
    "\n",
    "while x<5: \n",
    "    print(f'The current value of x is {x}')\n",
    "  #  x=x+1      \n",
    "    x += 1 # Another way of writing x=x+1\n",
    "else: \n",
    "        print(\"x is now greater than 5\")"
   ]
  },
  {
   "cell_type": "code",
   "execution_count": 30,
   "id": "1786567e",
   "metadata": {},
   "outputs": [],
   "source": [
    "# Break, continue and pass functions\n",
    "x=[1,2,3]\n",
    "\n",
    "for item in x:\n",
    "    #comment\n",
    "    pass # empty keyword to used as a holder"
   ]
  },
  {
   "cell_type": "code",
   "execution_count": 34,
   "id": "9a7817d3",
   "metadata": {},
   "outputs": [
    {
     "name": "stdout",
     "output_type": "stream",
     "text": [
      "S\n",
      "a\n",
      "i\n",
      "z\n",
      "e\n",
      "n\n"
     ]
    }
   ],
   "source": [
    "# Next continue loop (goes to top of loop)\n",
    "mystring='Shaizen'\n",
    "\n",
    "for letter in mystring:\n",
    "    if letter =='h':\n",
    "        continue #Skips the letter h since continue\n",
    "        # the loop\n",
    "    print(letter)\n",
    "    "
   ]
  },
  {
   "cell_type": "code",
   "execution_count": 36,
   "id": "3878bc2a",
   "metadata": {},
   "outputs": [
    {
     "name": "stdout",
     "output_type": "stream",
     "text": [
      "S\n",
      "h\n",
      "a\n"
     ]
    }
   ],
   "source": [
    "# Next continue loop (goes to top of loop)\n",
    "mystring='Shaizen'\n",
    "\n",
    "for letter in mystring:\n",
    "    if letter =='i':\n",
    "        break # Breaks loop for letter i\n",
    "    print(letter)\n",
    "    "
   ]
  },
  {
   "cell_type": "code",
   "execution_count": 37,
   "id": "f14f8f9f",
   "metadata": {},
   "outputs": [
    {
     "name": "stdout",
     "output_type": "stream",
     "text": [
      "0\n",
      "1\n",
      "2\n",
      "3\n",
      "4\n",
      "5\n",
      "6\n",
      "7\n",
      "8\n",
      "9\n"
     ]
    }
   ],
   "source": [
    "for num in range(10): \n",
    "    print(num)\n",
    "    #Creates series of number"
   ]
  },
  {
   "cell_type": "code",
   "execution_count": 42,
   "id": "525649eb",
   "metadata": {},
   "outputs": [
    {
     "name": "stdout",
     "output_type": "stream",
     "text": [
      "3\n",
      "5\n",
      "7\n",
      "9\n"
     ]
    },
    {
     "data": {
      "text/plain": [
       "9"
      ]
     },
     "execution_count": 42,
     "metadata": {},
     "output_type": "execute_result"
    }
   ],
   "source": [
    "for num in range(3, 10,2):  \n",
    "    print(num)\n",
    "    #Series from 3 upto but not including 10\n",
    "    #in step size of 2"
   ]
  },
  {
   "cell_type": "code",
   "execution_count": 41,
   "id": "c88cf73b",
   "metadata": {},
   "outputs": [
    {
     "data": {
      "text/plain": [
       "[0, 2, 4, 6, 8, 10]"
      ]
     },
     "execution_count": 41,
     "metadata": {},
     "output_type": "execute_result"
    }
   ],
   "source": [
    "# to create a variable use\n",
    "mylist=list(range(0,11,2))\n",
    "mylist"
   ]
  },
  {
   "cell_type": "code",
   "execution_count": 45,
   "id": "2adcc6a5",
   "metadata": {},
   "outputs": [
    {
     "name": "stdout",
     "output_type": "stream",
     "text": [
      "a\n",
      "b\n",
      "c\n",
      "d\n",
      "e\n"
     ]
    }
   ],
   "source": [
    "index_count= 0\n",
    "word='abcde'\n",
    "\n",
    "for letter in word:\n",
    "    print(word[index_count])\n",
    "    index_count += 1"
   ]
  },
  {
   "cell_type": "code",
   "execution_count": 48,
   "id": "7e94b49f",
   "metadata": {},
   "outputs": [
    {
     "name": "stdout",
     "output_type": "stream",
     "text": [
      "0\n",
      "a\n",
      "\n",
      "\n",
      "1\n",
      "b\n",
      "\n",
      "\n",
      "2\n",
      "c\n",
      "\n",
      "\n",
      "3\n",
      "d\n",
      "\n",
      "\n",
      "4\n",
      "e\n",
      "\n",
      "\n"
     ]
    }
   ],
   "source": [
    "# The same for loop can be run using enemuerate\n",
    "\n",
    "word='abcde'\n",
    "\n",
    "for index,letter in enumerate(word):\n",
    "    print(index)\n",
    "    print(letter)\n",
    "    print('\\n')\n",
    "    # Creates a tuple of index's and letters\n"
   ]
  },
  {
   "cell_type": "code",
   "execution_count": 49,
   "id": "86df633b",
   "metadata": {},
   "outputs": [],
   "source": [
    "mylist1 = [1,2,3]\n",
    "mylist2 = ['a','b','c']"
   ]
  },
  {
   "cell_type": "code",
   "execution_count": 50,
   "id": "b672523b",
   "metadata": {},
   "outputs": [
    {
     "name": "stdout",
     "output_type": "stream",
     "text": [
      "(1, 'a')\n",
      "(2, 'b')\n",
      "(3, 'c')\n"
     ]
    }
   ],
   "source": [
    "for item in zip(mylist1,mylist2):\n",
    "    print (item)\n",
    "    # Creates a tuple by zipping lists togehter"
   ]
  },
  {
   "cell_type": "code",
   "execution_count": 52,
   "id": "57cd9351",
   "metadata": {},
   "outputs": [
    {
     "data": {
      "text/plain": [
       "[(1, 'a', 100), (2, 'b', 200), (3, 'c', 300)]"
      ]
     },
     "execution_count": 52,
     "metadata": {},
     "output_type": "execute_result"
    }
   ],
   "source": [
    "mylist1 = [1,2,3,4,5,6]\n",
    "mylist2 = ['a','b','c']\n",
    "mylist3 = [100,200,300]\n",
    "           \n",
    "mylist_tog=list(zip(mylist1,mylist2,mylist3))\n",
    "mylist_tog"
   ]
  },
  {
   "cell_type": "code",
   "execution_count": 53,
   "id": "c189ecf4",
   "metadata": {},
   "outputs": [
    {
     "data": {
      "text/plain": [
       "False"
      ]
     },
     "execution_count": 53,
     "metadata": {},
     "output_type": "execute_result"
    }
   ],
   "source": [
    "'x' in [1,2,3]"
   ]
  },
  {
   "cell_type": "code",
   "execution_count": 54,
   "id": "17902c26",
   "metadata": {},
   "outputs": [
    {
     "data": {
      "text/plain": [
       "True"
      ]
     },
     "execution_count": 54,
     "metadata": {},
     "output_type": "execute_result"
    }
   ],
   "source": [
    "'x' in ['x','y',2,3] #Check if in list"
   ]
  },
  {
   "cell_type": "code",
   "execution_count": 56,
   "id": "9b0c70c5",
   "metadata": {},
   "outputs": [
    {
     "data": {
      "text/plain": [
       "True"
      ]
     },
     "execution_count": 56,
     "metadata": {},
     "output_type": "execute_result"
    }
   ],
   "source": [
    "'k1' in {'k1':345,'k2':[31,2]} #Check if in dict"
   ]
  },
  {
   "cell_type": "code",
   "execution_count": 57,
   "id": "3047184b",
   "metadata": {},
   "outputs": [
    {
     "data": {
      "text/plain": [
       "False"
      ]
     },
     "execution_count": 57,
     "metadata": {},
     "output_type": "execute_result"
    }
   ],
   "source": [
    "d= {'k1':345}\n",
    "\n",
    "345 in d.keys()"
   ]
  },
  {
   "cell_type": "code",
   "execution_count": 58,
   "id": "ed6c8c83",
   "metadata": {},
   "outputs": [],
   "source": [
    "mylist = [10,20,30,40,100]"
   ]
  },
  {
   "cell_type": "code",
   "execution_count": 60,
   "id": "16b426fc",
   "metadata": {},
   "outputs": [
    {
     "data": {
      "text/plain": [
       "10"
      ]
     },
     "execution_count": 60,
     "metadata": {},
     "output_type": "execute_result"
    }
   ],
   "source": [
    "min(mylist) #Syntax hilighted special function"
   ]
  },
  {
   "cell_type": "code",
   "execution_count": 61,
   "id": "8b60b304",
   "metadata": {},
   "outputs": [
    {
     "data": {
      "text/plain": [
       "100"
      ]
     },
     "execution_count": 61,
     "metadata": {},
     "output_type": "execute_result"
    }
   ],
   "source": [
    "max(mylist) #Syntax hilighted special function"
   ]
  },
  {
   "cell_type": "code",
   "execution_count": 62,
   "id": "4f6f949f",
   "metadata": {},
   "outputs": [],
   "source": [
    "from random import shuffle # import shuffle from built-in shuffle"
   ]
  },
  {
   "cell_type": "code",
   "execution_count": 63,
   "id": "acbb1edb",
   "metadata": {},
   "outputs": [],
   "source": [
    "mylist = [1,2,3,4,5,6,7,8,9,10]"
   ]
  },
  {
   "cell_type": "code",
   "execution_count": 65,
   "id": "5c6d5c78",
   "metadata": {},
   "outputs": [],
   "source": [
    "random_list = shuffle(mylist) # in place function \n",
    "random_list\n",
    "# Does not give back anything (NoneType)"
   ]
  },
  {
   "cell_type": "code",
   "execution_count": 66,
   "id": "1b284056",
   "metadata": {},
   "outputs": [
    {
     "data": {
      "text/plain": [
       "[2, 3, 10, 9, 4, 6, 1, 7, 8, 5]"
      ]
     },
     "execution_count": 66,
     "metadata": {},
     "output_type": "execute_result"
    }
   ],
   "source": [
    "mylist # but the list is shuffeled"
   ]
  },
  {
   "cell_type": "code",
   "execution_count": 68,
   "id": "72e9de33",
   "metadata": {},
   "outputs": [
    {
     "data": {
      "text/plain": [
       "91"
      ]
     },
     "execution_count": 68,
     "metadata": {},
     "output_type": "execute_result"
    }
   ],
   "source": [
    "from random import randint\n",
    "mynum = randint(0,100)\n",
    "mynum"
   ]
  },
  {
   "cell_type": "code",
   "execution_count": 75,
   "id": "b72dd02d",
   "metadata": {},
   "outputs": [
    {
     "name": "stdout",
     "output_type": "stream",
     "text": [
      "Enter a number \n",
      "10\n"
     ]
    }
   ],
   "source": [
    "result = int(input('Enter a number \\n')) \n",
    "# By default input is a string\n",
    "#Number as input"
   ]
  },
  {
   "cell_type": "code",
   "execution_count": 76,
   "id": "edcd38db",
   "metadata": {},
   "outputs": [
    {
     "data": {
      "text/plain": [
       "int"
      ]
     },
     "execution_count": 76,
     "metadata": {},
     "output_type": "execute_result"
    }
   ],
   "source": [
    "type(result)"
   ]
  },
  {
   "cell_type": "code",
   "execution_count": 78,
   "id": "17881f5d",
   "metadata": {},
   "outputs": [
    {
     "data": {
      "text/plain": [
       "['h', 'e', 'l', 'l', 'o']"
      ]
     },
     "execution_count": 78,
     "metadata": {},
     "output_type": "execute_result"
    }
   ],
   "source": [
    "mystring = 'hello' # List comprehension code\n",
    "\n",
    "mylist = []\n",
    "for letter in mystring:\n",
    "    mylist.append(letter)\n",
    "\n",
    "mylist # Extracts the list letter by letter"
   ]
  },
  {
   "cell_type": "code",
   "execution_count": 79,
   "id": "e01a350e",
   "metadata": {},
   "outputs": [
    {
     "data": {
      "text/plain": [
       "['h', 'e', 'l', 'l', 'o']"
      ]
     },
     "execution_count": 79,
     "metadata": {},
     "output_type": "execute_result"
    }
   ],
   "source": [
    "mylist = [letter for letter in mystring]\n",
    "# flattened out for loop (same as above)\n",
    "mylist"
   ]
  },
  {
   "cell_type": "code",
   "execution_count": 86,
   "id": "fa5a4991",
   "metadata": {},
   "outputs": [
    {
     "data": {
      "text/plain": [
       "[32.0, 50.0, 68.0, 94.1, 98.60000000000001, 122.0]"
      ]
     },
     "execution_count": 86,
     "metadata": {},
     "output_type": "execute_result"
    }
   ],
   "source": [
    "celcius = [0, 10,20,34.5,37,50]\n",
    "\n",
    "fahrenheit = [( (9/5)*temp) + 32 for temp in celcius]\n",
    "fahrenheit # short form of for loop"
   ]
  },
  {
   "cell_type": "code",
   "execution_count": 89,
   "id": "c9042d88",
   "metadata": {},
   "outputs": [
    {
     "data": {
      "text/plain": [
       "[32.0, 50.0, 68.0, 94.1, 98.60000000000001, 122.0]"
      ]
     },
     "execution_count": 89,
     "metadata": {},
     "output_type": "execute_result"
    }
   ],
   "source": [
    "fahrenheit = []\n",
    "\n",
    "for temp in celcius: \n",
    "    fahrenheit.append((9/5)*temp+ 32)\n",
    "fahrenheit\n",
    "\n",
    "# This is another version of the for loop above"
   ]
  },
  {
   "cell_type": "code",
   "execution_count": 92,
   "id": "20ba5127",
   "metadata": {},
   "outputs": [
    {
     "data": {
      "text/plain": [
       "[0, 'ODD', 2, 'ODD', 4, 'ODD', 6, 'ODD', 8, 'ODD', 10]"
      ]
     },
     "execution_count": 92,
     "metadata": {},
     "output_type": "execute_result"
    }
   ],
   "source": [
    "results = [x if x%2==0 else 'ODD' for x in range(0,11)]\n",
    "results\n",
    "# Order became different and hard to understand what's going on\n"
   ]
  },
  {
   "cell_type": "code",
   "execution_count": 95,
   "id": "52b9df58",
   "metadata": {},
   "outputs": [
    {
     "data": {
      "text/plain": [
       "[2, 40, 600, 4, 80, 1200, 6, 120, 1800]"
      ]
     },
     "execution_count": 95,
     "metadata": {},
     "output_type": "execute_result"
    }
   ],
   "source": [
    "# Nested loops are possible in comprehensions\n",
    "\n",
    "mylist = []\n",
    "\n",
    "for x in [2,4,6]:\n",
    "    for y in [1,20,300]:\n",
    "        mylist.append(x*y)\n",
    "mylist"
   ]
  },
  {
   "cell_type": "code",
   "execution_count": 97,
   "id": "463ec599",
   "metadata": {},
   "outputs": [],
   "source": [
    "# Possible to do the same nested for loop in a single line\n",
    "\n",
    "mylist = [x*y for x in [2,4,6] for y in [1,20,300]]"
   ]
  },
  {
   "cell_type": "code",
   "execution_count": null,
   "id": "6b4e869b",
   "metadata": {},
   "outputs": [],
   "source": [
    " # Assesment test statement operators comparision operators\n",
    "    "
   ]
  }
 ],
 "metadata": {
  "kernelspec": {
   "display_name": "Python 3",
   "language": "python",
   "name": "python3"
  },
  "language_info": {
   "codemirror_mode": {
    "name": "ipython",
    "version": 3
   },
   "file_extension": ".py",
   "mimetype": "text/x-python",
   "name": "python",
   "nbconvert_exporter": "python",
   "pygments_lexer": "ipython3",
   "version": "3.8.8"
  }
 },
 "nbformat": 4,
 "nbformat_minor": 5
}
