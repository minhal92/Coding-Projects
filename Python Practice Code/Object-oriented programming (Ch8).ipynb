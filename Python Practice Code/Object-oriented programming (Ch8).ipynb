{
 "cells": [
  {
   "cell_type": "code",
   "execution_count": 1,
   "id": "518e105b",
   "metadata": {},
   "outputs": [
    {
     "data": {
      "text/plain": [
       "[1, 2, 3]"
      ]
     },
     "execution_count": 1,
     "metadata": {},
     "output_type": "execute_result"
    }
   ],
   "source": [
    "mylist = [1,2,3]\n",
    "mylist"
   ]
  },
  {
   "cell_type": "code",
   "execution_count": 4,
   "id": "fdd09ef3",
   "metadata": {},
   "outputs": [
    {
     "data": {
      "text/plain": [
       "list"
      ]
     },
     "execution_count": 4,
     "metadata": {},
     "output_type": "execute_result"
    }
   ],
   "source": [
    "mylist = list(range(1,4))\n",
    "mylist\n",
    "type(mylist)"
   ]
  },
  {
   "cell_type": "code",
   "execution_count": 5,
   "id": "55978fca",
   "metadata": {},
   "outputs": [
    {
     "data": {
      "text/plain": [
       "set"
      ]
     },
     "execution_count": 5,
     "metadata": {},
     "output_type": "execute_result"
    }
   ],
   "source": [
    "myset = set()\n",
    "type(myset)"
   ]
  },
  {
   "cell_type": "code",
   "execution_count": 6,
   "id": "9b4f443c",
   "metadata": {},
   "outputs": [],
   "source": [
    "class CamelCasing():#classes are conventially camel-cased\n",
    "    pass\n",
    "my_sample = CamelCasing()"
   ]
  },
  {
   "cell_type": "code",
   "execution_count": 7,
   "id": "1aa36be4",
   "metadata": {},
   "outputs": [
    {
     "data": {
      "text/plain": [
       "__main__.CamelCasing"
      ]
     },
     "execution_count": 7,
     "metadata": {},
     "output_type": "execute_result"
    }
   ],
   "source": [
    "type(my_sample)"
   ]
  },
  {
   "cell_type": "code",
   "execution_count": 11,
   "id": "c35935db",
   "metadata": {},
   "outputs": [],
   "source": [
    "class SampleClass():\n",
    "    def __init__(self,breed): \n",
    "        pass\n",
    "my_sample = SampleClass()"
   ]
  },
  {
   "cell_type": "code",
   "execution_count": 15,
   "id": "e052e368",
   "metadata": {},
   "outputs": [],
   "source": [
    "class Dog():\n",
    "    def __init__(self,breed):\n",
    "        self.breed = breed"
   ]
  },
  {
   "cell_type": "code",
   "execution_count": 17,
   "id": "04e759ab",
   "metadata": {},
   "outputs": [
    {
     "data": {
      "text/plain": [
       "__main__.Dog"
      ]
     },
     "execution_count": 17,
     "metadata": {},
     "output_type": "execute_result"
    }
   ],
   "source": [
    "my_dog = Dog(breed='Lab')\n",
    "type(my_dog)"
   ]
  },
  {
   "cell_type": "code",
   "execution_count": 18,
   "id": "01615fa1",
   "metadata": {},
   "outputs": [
    {
     "data": {
      "text/plain": [
       "'Lab'"
      ]
     },
     "execution_count": 18,
     "metadata": {},
     "output_type": "execute_result"
    }
   ],
   "source": [
    "my_dog.breed #autocompletes breed if you press tab after typing my_dog as it \n",
    "# is the only attribute of the instance of the my_dog class"
   ]
  },
  {
   "cell_type": "code",
   "execution_count": 19,
   "id": "a1fbad86",
   "metadata": {},
   "outputs": [],
   "source": [
    "class Dog():\n",
    "    def __init__(self,mybreed):\n",
    "        # Attributes of the class Dog.\n",
    "        # We take the argument and assign it to self.attribute.name\n",
    "        self.breed = mybreed # you can change the name of the attribute \n",
    "        # that you are saving"
   ]
  },
  {
   "cell_type": "code",
   "execution_count": 20,
   "id": "1eeea48d",
   "metadata": {},
   "outputs": [
    {
     "data": {
      "text/plain": [
       "__main__.Dog"
      ]
     },
     "execution_count": 20,
     "metadata": {},
     "output_type": "execute_result"
    }
   ],
   "source": [
    "my_dog = Dog(mybreed = 'Huskie')\n",
    "type(my_dog)"
   ]
  },
  {
   "cell_type": "code",
   "execution_count": 21,
   "id": "ec47cf6e",
   "metadata": {},
   "outputs": [
    {
     "data": {
      "text/plain": [
       "'Huskie'"
      ]
     },
     "execution_count": 21,
     "metadata": {},
     "output_type": "execute_result"
    }
   ],
   "source": [
    "# Now the my_dog class only has .breed NOT .mybreed\n",
    "my_dog.breed # BUT by convention you keep using the SAME attribute name\n",
    "# the attribute breed should be repeated 3 times in the class above."
   ]
  },
  {
   "cell_type": "code",
   "execution_count": 32,
   "id": "a53fa4ac",
   "metadata": {},
   "outputs": [],
   "source": [
    "class Dog():\n",
    "    # Attributes can ALSO be defined at the class object attribute\n",
    "    # These are the SAME for ANY instance of a class\n",
    "    species = 'mammal'\n",
    "    def __init__(self,breed,name,spots):\n",
    "        # Attributes of the class Dog.\n",
    "        self.breed = breed \n",
    "        self.name = name \n",
    "        # Expect a boolean True/False\n",
    "        self.spots = spots "
   ]
  },
  {
   "cell_type": "code",
   "execution_count": 33,
   "id": "6d93f68e",
   "metadata": {},
   "outputs": [],
   "source": [
    "my_dog=Dog(breed='Lab',name='Kaizen',spots=False)"
   ]
  },
  {
   "cell_type": "code",
   "execution_count": 34,
   "id": "fdd5181e",
   "metadata": {},
   "outputs": [
    {
     "data": {
      "text/plain": [
       "'Kaizen'"
      ]
     },
     "execution_count": 34,
     "metadata": {},
     "output_type": "execute_result"
    }
   ],
   "source": [
    "# Now my_dog variable has all of the attriubtes in the class 'Dog'\n",
    "my_dog.name"
   ]
  },
  {
   "cell_type": "code",
   "execution_count": 35,
   "id": "a538ae50",
   "metadata": {},
   "outputs": [
    {
     "data": {
      "text/plain": [
       "'mammal'"
      ]
     },
     "execution_count": 35,
     "metadata": {},
     "output_type": "execute_result"
    }
   ],
   "source": [
    "# Expecting a certain type of variable in classes can be done using validation\n",
    "# checks. Any attribute you define in a class is repeated 3 times\n",
    "my_dog.species # When you press 'tab' the species attribute is \n",
    "# always availible regardless of the instance"
   ]
  },
  {
   "cell_type": "code",
   "execution_count": 44,
   "id": "763ad215",
   "metadata": {},
   "outputs": [],
   "source": [
    "# Next lets discuss methods which are defined within a class\n",
    "\n",
    "class Dog():\n",
    "    # Class object attribute  \n",
    "    species = 'mammal'\n",
    "    def __init__(self,breed,name):\n",
    "        # Attributes of the class Dog that can be defined\n",
    "        self.breed = breed \n",
    "        self.name = name \n",
    "    def bark(self):\n",
    "        #print(f'Woof! My name is {self.name}')\n",
    "        print('Woof! My name is {}'.format(self.name))"
   ]
  },
  {
   "cell_type": "code",
   "execution_count": 45,
   "id": "705c6805",
   "metadata": {},
   "outputs": [
    {
     "data": {
      "text/plain": [
       "<__main__.Dog at 0x1b6ad8b31f0>"
      ]
     },
     "execution_count": 45,
     "metadata": {},
     "output_type": "execute_result"
    }
   ],
   "source": [
    "my_dog=Dog(breed='Lab',name='Kaizen')\n",
    "my_dog"
   ]
  },
  {
   "cell_type": "code",
   "execution_count": 46,
   "id": "9d3cc1b5",
   "metadata": {},
   "outputs": [
    {
     "name": "stdout",
     "output_type": "stream",
     "text": [
      "Woof! My name is Kaizen\n"
     ]
    }
   ],
   "source": [
    "# if you want to call the bark method you can use\n",
    "my_dog.bark() # An action the object can take"
   ]
  },
  {
   "cell_type": "code",
   "execution_count": null,
   "id": "91e05cb9",
   "metadata": {},
   "outputs": [],
   "source": []
  },
  {
   "cell_type": "code",
   "execution_count": null,
   "id": "80b0ce7d",
   "metadata": {},
   "outputs": [],
   "source": []
  },
  {
   "cell_type": "code",
   "execution_count": null,
   "id": "311f1e72",
   "metadata": {},
   "outputs": [],
   "source": []
  },
  {
   "cell_type": "code",
   "execution_count": 75,
   "id": "61ed5163",
   "metadata": {},
   "outputs": [],
   "source": [
    "class Circle():\n",
    "    # Class object attribute\n",
    "    pi = 3.14 # Always true no matter the instance\n",
    "    def __init__(self,radius=1): # define attribute with default value\n",
    "        self.radius = radius\n",
    "        #self.area = radius**2*self.pi \n",
    "        self.area = radius**2*Circle.pi\n",
    "        # self.pi can also be referenced using Class.attribute_name.\n",
    "    def get_circumference(self):\n",
    "        return self.radius * self.pi*2"
   ]
  },
  {
   "cell_type": "code",
   "execution_count": 76,
   "id": "523dc148",
   "metadata": {},
   "outputs": [
    {
     "data": {
      "text/plain": [
       "30"
      ]
     },
     "execution_count": 76,
     "metadata": {},
     "output_type": "execute_result"
    }
   ],
   "source": [
    "#my_circle = Circle(radius=5)\n",
    "my_circle = Circle(30) # same as the call above since only 1 attribute\n",
    "my_circle.radius # can call the method and view \n",
    "# them using tab"
   ]
  },
  {
   "cell_type": "code",
   "execution_count": 77,
   "id": "1434bdbf",
   "metadata": {},
   "outputs": [
    {
     "data": {
      "text/plain": [
       "3.14"
      ]
     },
     "execution_count": 77,
     "metadata": {},
     "output_type": "execute_result"
    }
   ],
   "source": [
    "my_circle.pi"
   ]
  },
  {
   "cell_type": "code",
   "execution_count": 78,
   "id": "a2d38222",
   "metadata": {},
   "outputs": [
    {
     "data": {
      "text/plain": [
       "188.4"
      ]
     },
     "execution_count": 78,
     "metadata": {},
     "output_type": "execute_result"
    }
   ],
   "source": [
    "my_circle.get_circumference()"
   ]
  },
  {
   "cell_type": "code",
   "execution_count": 79,
   "id": "5d3403c0",
   "metadata": {},
   "outputs": [
    {
     "data": {
      "text/plain": [
       "2826.0"
      ]
     },
     "execution_count": 79,
     "metadata": {},
     "output_type": "execute_result"
    }
   ],
   "source": [
    "my_circle.area # Can also view the area now after defining"
   ]
  },
  {
   "cell_type": "code",
   "execution_count": null,
   "id": "1a910e6b",
   "metadata": {},
   "outputs": [],
   "source": []
  },
  {
   "cell_type": "code",
   "execution_count": null,
   "id": "fca160dd",
   "metadata": {},
   "outputs": [],
   "source": []
  },
  {
   "cell_type": "code",
   "execution_count": null,
   "id": "e151ee95",
   "metadata": {},
   "outputs": [],
   "source": []
  },
  {
   "cell_type": "code",
   "execution_count": 80,
   "id": "e65f7309",
   "metadata": {},
   "outputs": [],
   "source": [
    "# Part three : Object oriented programming\n",
    "# Inheritence: Define new classes using predefined classes\n",
    "# Inheritence can also reduce the complexity of code"
   ]
  },
  {
   "cell_type": "code",
   "execution_count": 83,
   "id": "bc4d0dc3",
   "metadata": {},
   "outputs": [],
   "source": [
    "class Animal():\n",
    "    def __init__(self):\n",
    "        print(\"Animal Created\")\n",
    "    def who_am_i(self):\n",
    "        print('I am an animal')\n",
    "    def eat(self):\n",
    "        print(\"I am eating\")"
   ]
  },
  {
   "cell_type": "code",
   "execution_count": 84,
   "id": "a4d5fa4e",
   "metadata": {},
   "outputs": [
    {
     "name": "stdout",
     "output_type": "stream",
     "text": [
      "Animal Created\n"
     ]
    }
   ],
   "source": [
    "my_animal = Animal()"
   ]
  },
  {
   "cell_type": "code",
   "execution_count": 86,
   "id": "896efefe",
   "metadata": {},
   "outputs": [
    {
     "name": "stdout",
     "output_type": "stream",
     "text": [
      "I am eating\n"
     ]
    }
   ],
   "source": [
    "my_animal.eat()\n",
    "# Can also call the eat class"
   ]
  },
  {
   "cell_type": "code",
   "execution_count": 93,
   "id": "e2810e4f",
   "metadata": {},
   "outputs": [],
   "source": [
    "# Now let's use the inheretence for the Dog class\n",
    "class Dog(Animal): # Now dog is a derived class\n",
    "    def __init__(self):\n",
    "        Animal.__init__(self)\n",
    "        print('Dog created')\n",
    "    def who_am_i(self): # Rewrite the method inherited from the base-class\n",
    "        print('I am an DOGE SAMA')"
   ]
  },
  {
   "cell_type": "code",
   "execution_count": 94,
   "id": "b9fd46d5",
   "metadata": {},
   "outputs": [
    {
     "name": "stdout",
     "output_type": "stream",
     "text": [
      "Animal Created\n",
      "Dog created\n"
     ]
    }
   ],
   "source": [
    "my_dog = Dog()"
   ]
  },
  {
   "cell_type": "code",
   "execution_count": 95,
   "id": "00f60dde",
   "metadata": {},
   "outputs": [
    {
     "name": "stdout",
     "output_type": "stream",
     "text": [
      "I am eating\n"
     ]
    }
   ],
   "source": [
    "my_dog.eat() # Now my_dog has the methods defined in the animal class \n",
    "# because the Dog class has inherited classes from the Animal method"
   ]
  },
  {
   "cell_type": "code",
   "execution_count": 96,
   "id": "2c07385c",
   "metadata": {},
   "outputs": [
    {
     "name": "stdout",
     "output_type": "stream",
     "text": [
      "I am an DOGE SAMA\n"
     ]
    }
   ],
   "source": [
    "my_dog.who_am_i() # can overwrite variables from the inherited class"
   ]
  },
  {
   "cell_type": "code",
   "execution_count": 97,
   "id": "46763363",
   "metadata": {},
   "outputs": [],
   "source": [
    "# Once you add the class"
   ]
  },
  {
   "cell_type": "markdown",
   "id": "7811f504",
   "metadata": {},
   "source": [
    "# Polymorphism\n",
    "How can different object classes have different names"
   ]
  },
  {
   "cell_type": "code",
   "execution_count": 106,
   "id": "719b7840",
   "metadata": {},
   "outputs": [],
   "source": [
    "class Dog():\n",
    "    def __init__(self,name):\n",
    "        self.name = name\n",
    "        \n",
    "    def speak(self):\n",
    "        return self.name + ' says woof!'"
   ]
  },
  {
   "cell_type": "code",
   "execution_count": 107,
   "id": "b5b43273",
   "metadata": {},
   "outputs": [],
   "source": [
    "class Cat():\n",
    "    def __init__(self,name):\n",
    "        self.name = name\n",
    "        \n",
    "    def speak(self):\n",
    "        return self.name + ' says meow!'"
   ]
  },
  {
   "cell_type": "code",
   "execution_count": 108,
   "id": "0ff2b84a",
   "metadata": {},
   "outputs": [],
   "source": [
    "doge = Dog(name = 'doge-sama')\n",
    "cato = Cat(name = 'niko')"
   ]
  },
  {
   "cell_type": "code",
   "execution_count": 109,
   "id": "b3b5a0f7",
   "metadata": {},
   "outputs": [
    {
     "data": {
      "text/plain": [
       "'doge-sama says woof!'"
      ]
     },
     "execution_count": 109,
     "metadata": {},
     "output_type": "execute_result"
    }
   ],
   "source": [
    "doge.speak()"
   ]
  },
  {
   "cell_type": "code",
   "execution_count": 110,
   "id": "71b84e52",
   "metadata": {},
   "outputs": [
    {
     "data": {
      "text/plain": [
       "'niko says meow!'"
      ]
     },
     "execution_count": 110,
     "metadata": {},
     "output_type": "execute_result"
    }
   ],
   "source": [
    "cato.speak()"
   ]
  },
  {
   "cell_type": "markdown",
   "id": "45ce99a3",
   "metadata": {},
   "source": [
    "Can demonstrate Polymorphism using a for loop"
   ]
  },
  {
   "cell_type": "code",
   "execution_count": 116,
   "id": "47cd7b87",
   "metadata": {},
   "outputs": [
    {
     "name": "stdout",
     "output_type": "stream",
     "text": [
      "<class '__main__.Dog'>\n",
      "doge-sama says woof!\n",
      "<class '__main__.Cat'>\n",
      "niko says meow!\n"
     ]
    }
   ],
   "source": [
    "for pet in [doge,cato]:\n",
    "    print(type(pet))\n",
    "    print(pet.speak())"
   ]
  },
  {
   "cell_type": "code",
   "execution_count": 117,
   "id": "7b6e6eef",
   "metadata": {},
   "outputs": [],
   "source": [
    "def pet_speak(pet):\n",
    "    print(pet.speak())"
   ]
  },
  {
   "cell_type": "code",
   "execution_count": 118,
   "id": "37d8b65e",
   "metadata": {},
   "outputs": [
    {
     "name": "stdout",
     "output_type": "stream",
     "text": [
      "doge-sama says woof!\n"
     ]
    }
   ],
   "source": [
    "pet_speak(doge)"
   ]
  },
  {
   "cell_type": "code",
   "execution_count": 120,
   "id": "898fe429",
   "metadata": {},
   "outputs": [
    {
     "name": "stdout",
     "output_type": "stream",
     "text": [
      "niko says meow!\n"
     ]
    }
   ],
   "source": [
    "pet_speak(cato) #Can call the function now using same method call"
   ]
  },
  {
   "cell_type": "code",
   "execution_count": null,
   "id": "d698ed3c",
   "metadata": {},
   "outputs": [],
   "source": []
  },
  {
   "cell_type": "code",
   "execution_count": 123,
   "id": "b722610f",
   "metadata": {},
   "outputs": [],
   "source": [
    "class Animal(): \n",
    "    def __init__(self,name):\n",
    "        self.name = name\n",
    "    def speak(self):\n",
    "        raise NotImlementedError(\"Brah the subclass must implent this abstract method\")"
   ]
  },
  {
   "cell_type": "code",
   "execution_count": 124,
   "id": "4d31acb9",
   "metadata": {},
   "outputs": [
    {
     "ename": "NameError",
     "evalue": "name 'Amimal' is not defined",
     "output_type": "error",
     "traceback": [
      "\u001b[1;31m---------------------------------------------------------------------------\u001b[0m",
      "\u001b[1;31mNameError\u001b[0m                                 Traceback (most recent call last)",
      "\u001b[1;32m<ipython-input-124-455a0a875e6b>\u001b[0m in \u001b[0;36m<module>\u001b[1;34m\u001b[0m\n\u001b[1;32m----> 1\u001b[1;33m \u001b[0mmyanimal\u001b[0m \u001b[1;33m=\u001b[0m \u001b[0mAmimal\u001b[0m\u001b[1;33m(\u001b[0m\u001b[1;34m'Shaizen'\u001b[0m\u001b[1;33m)\u001b[0m\u001b[1;33m\u001b[0m\u001b[1;33m\u001b[0m\u001b[0m\n\u001b[0m",
      "\u001b[1;31mNameError\u001b[0m: name 'Amimal' is not defined"
     ]
    }
   ],
   "source": [
    "#myanimal = Amimal('Shaizen')"
   ]
  },
  {
   "cell_type": "code",
   "execution_count": 125,
   "id": "a9ea062a",
   "metadata": {},
   "outputs": [],
   "source": [
    "# Polymorphism allows for multiple function to share the same method name\n",
    "# The same method name allows you to not worry about the specific class"
   ]
  },
  {
   "cell_type": "code",
   "execution_count": null,
   "id": "d28db8e0",
   "metadata": {},
   "outputs": [],
   "source": []
  },
  {
   "cell_type": "code",
   "execution_count": null,
   "id": "6fb697fa",
   "metadata": {},
   "outputs": [],
   "source": []
  },
  {
   "cell_type": "code",
   "execution_count": 126,
   "id": "4da1f41e",
   "metadata": {},
   "outputs": [
    {
     "data": {
      "text/plain": [
       "3"
      ]
     },
     "execution_count": 126,
     "metadata": {},
     "output_type": "execute_result"
    }
   ],
   "source": [
    "mylist = [1,2,3]\n",
    "len(mylist)"
   ]
  },
  {
   "cell_type": "code",
   "execution_count": 128,
   "id": "10d5bc72",
   "metadata": {},
   "outputs": [],
   "source": [
    "class Sample():\n",
    "    pass"
   ]
  },
  {
   "cell_type": "code",
   "execution_count": 135,
   "id": "e347d750",
   "metadata": {},
   "outputs": [],
   "source": [
    "mysample = Sample()\n",
    "#len(mysample) #cannot print the sample\n",
    "# TypeError: object of type 'Sample' has no len()"
   ]
  },
  {
   "cell_type": "code",
   "execution_count": 136,
   "id": "2df6d9a9",
   "metadata": {},
   "outputs": [
    {
     "name": "stdout",
     "output_type": "stream",
     "text": [
      "<__main__.Sample object at 0x000001B6AD692D30>\n"
     ]
    }
   ],
   "source": [
    "print(mysample)"
   ]
  },
  {
   "cell_type": "code",
   "execution_count": 137,
   "id": "9a68e98d",
   "metadata": {},
   "outputs": [
    {
     "name": "stdout",
     "output_type": "stream",
     "text": [
      "[1, 2, 3]\n"
     ]
    }
   ],
   "source": [
    "print(mylist)"
   ]
  },
  {
   "cell_type": "code",
   "execution_count": null,
   "id": "6d7f1443",
   "metadata": {},
   "outputs": [],
   "source": []
  },
  {
   "cell_type": "code",
   "execution_count": null,
   "id": "598ca60b",
   "metadata": {},
   "outputs": [],
   "source": []
  },
  {
   "cell_type": "code",
   "execution_count": 138,
   "id": "39d1d254",
   "metadata": {},
   "outputs": [],
   "source": [
    "#Special methods"
   ]
  },
  {
   "cell_type": "code",
   "execution_count": 158,
   "id": "92e78650",
   "metadata": {},
   "outputs": [],
   "source": [
    "class Book():\n",
    "    def __init__(self,title,author,pages): # First special method\n",
    "        self.title = title\n",
    "        self.author = author\n",
    "        self.pages = pages\n",
    "    def __str__(self):\n",
    "        return f'{self.title} by {self.author}'\n",
    "    def __len__(self):\n",
    "        return self.pages\n",
    "    # can define special things when delete\n",
    "    def __del__(self):\n",
    "        print(\"A book object has been deleted\")"
   ]
  },
  {
   "cell_type": "code",
   "execution_count": 159,
   "id": "b04fac7b",
   "metadata": {},
   "outputs": [
    {
     "name": "stdout",
     "output_type": "stream",
     "text": [
      "Python shaizen by Lmao\n"
     ]
    }
   ],
   "source": [
    "b = Book('Python shaizen','Lmao',300)\n",
    "print(b) # Prints where the book class is"
   ]
  },
  {
   "cell_type": "code",
   "execution_count": 160,
   "id": "df9d2ea1",
   "metadata": {},
   "outputs": [
    {
     "data": {
      "text/plain": [
       "'Python shaizen by Lmao'"
      ]
     },
     "execution_count": 160,
     "metadata": {},
     "output_type": "execute_result"
    }
   ],
   "source": [
    "str(b) # This is the string representation"
   ]
  },
  {
   "cell_type": "code",
   "execution_count": 161,
   "id": "a84f5856",
   "metadata": {},
   "outputs": [
    {
     "data": {
      "text/plain": [
       "300"
      ]
     },
     "execution_count": 161,
     "metadata": {},
     "output_type": "execute_result"
    }
   ],
   "source": [
    "len(b) # Now that we added len we can print the length too"
   ]
  },
  {
   "cell_type": "code",
   "execution_count": 162,
   "id": "94af1205",
   "metadata": {},
   "outputs": [
    {
     "name": "stdout",
     "output_type": "stream",
     "text": [
      "A book object has been deleted\n"
     ]
    }
   ],
   "source": [
    "# can also delete a variable\n",
    "del b # Now you get the print statement when they use the special del keyword\n",
    "# You will be particularly using __str__ and __len__ so you can get\n",
    "# "
   ]
  },
  {
   "cell_type": "code",
   "execution_count": null,
   "id": "480927bc",
   "metadata": {},
   "outputs": [],
   "source": []
  },
  {
   "cell_type": "code",
   "execution_count": null,
   "id": "883ced8e",
   "metadata": {},
   "outputs": [],
   "source": []
  },
  {
   "cell_type": "code",
   "execution_count": null,
   "id": "73d66cba",
   "metadata": {},
   "outputs": [],
   "source": []
  },
  {
   "cell_type": "code",
   "execution_count": 163,
   "id": "05be921d",
   "metadata": {},
   "outputs": [],
   "source": [
    "# Creating modules and packages in .py\n",
    "# sometimes in code you will see"
   ]
  },
  {
   "cell_type": "code",
   "execution_count": null,
   "id": "d575cfd2",
   "metadata": {},
   "outputs": [],
   "source": [
    "if __name__ == \"__main__\"\n",
    "# this is used to check if the "
   ]
  }
 ],
 "metadata": {
  "kernelspec": {
   "display_name": "Python 3",
   "language": "python",
   "name": "python3"
  },
  "language_info": {
   "codemirror_mode": {
    "name": "ipython",
    "version": 3
   },
   "file_extension": ".py",
   "mimetype": "text/x-python",
   "name": "python",
   "nbconvert_exporter": "python",
   "pygments_lexer": "ipython3",
   "version": "3.8.8"
  }
 },
 "nbformat": 4,
 "nbformat_minor": 5
}
