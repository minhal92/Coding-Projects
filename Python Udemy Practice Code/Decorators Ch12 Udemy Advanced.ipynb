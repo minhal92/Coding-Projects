{
 "cells": [
  {
   "cell_type": "code",
   "execution_count": 2,
   "id": "678b6bd0",
   "metadata": {},
   "outputs": [],
   "source": [
    "def simple_func():\n",
    "    ## Want to do more stuff! \n",
    "    # Decorator is a one liner that allows \n",
    "    # for temperory functions\n",
    "    pass"
   ]
  },
  {
   "cell_type": "code",
   "execution_count": 7,
   "id": "2136fcec",
   "metadata": {},
   "outputs": [
    {
     "name": "stdout",
     "output_type": "stream",
     "text": [
      "hello\n"
     ]
    }
   ],
   "source": [
    "def hello():\n",
    "    return print(\"hello\")\n",
    "hello() #return function\n",
    "greet = hello # prints what the function is "
   ]
  },
  {
   "cell_type": "code",
   "execution_count": 5,
   "id": "5f170c55",
   "metadata": {},
   "outputs": [
    {
     "data": {
      "text/plain": [
       "<function __main__.hello()>"
      ]
     },
     "execution_count": 5,
     "metadata": {},
     "output_type": "execute_result"
    }
   ],
   "source": [
    "greet # greet has create a copy of the function hello"
   ]
  },
  {
   "cell_type": "code",
   "execution_count": 8,
   "id": "b1465e2d",
   "metadata": {},
   "outputs": [],
   "source": [
    "del hello"
   ]
  },
  {
   "cell_type": "code",
   "execution_count": 9,
   "id": "60a03955",
   "metadata": {},
   "outputs": [
    {
     "ename": "NameError",
     "evalue": "name 'hello' is not defined",
     "output_type": "error",
     "traceback": [
      "\u001b[1;31m---------------------------------------------------------------------------\u001b[0m",
      "\u001b[1;31mNameError\u001b[0m                                 Traceback (most recent call last)",
      "\u001b[1;32m<ipython-input-9-a75d7781aaeb>\u001b[0m in \u001b[0;36m<module>\u001b[1;34m\u001b[0m\n\u001b[1;32m----> 1\u001b[1;33m \u001b[0mhello\u001b[0m\u001b[1;33m(\u001b[0m\u001b[1;33m)\u001b[0m\u001b[1;33m\u001b[0m\u001b[1;33m\u001b[0m\u001b[0m\n\u001b[0m",
      "\u001b[1;31mNameError\u001b[0m: name 'hello' is not defined"
     ]
    }
   ],
   "source": [
    "hello() #can't call hello cause its delted"
   ]
  },
  {
   "cell_type": "code",
   "execution_count": 11,
   "id": "4a328579",
   "metadata": {},
   "outputs": [
    {
     "name": "stdout",
     "output_type": "stream",
     "text": [
      "hello\n"
     ]
    }
   ],
   "source": [
    "greet() #can call greet"
   ]
  },
  {
   "cell_type": "code",
   "execution_count": null,
   "id": "a9d1b290",
   "metadata": {},
   "outputs": [],
   "source": []
  },
  {
   "cell_type": "code",
   "execution_count": null,
   "id": "cd3383fe",
   "metadata": {},
   "outputs": [],
   "source": []
  },
  {
   "cell_type": "code",
   "execution_count": null,
   "id": "2e1bc57e",
   "metadata": {},
   "outputs": [],
   "source": []
  },
  {
   "cell_type": "code",
   "execution_count": 5,
   "id": "0b0fdbe7",
   "metadata": {},
   "outputs": [],
   "source": [
    "def hello(name='Shaizen'):\n",
    "    print('Hello() function has been executed')\n",
    "    def greet():\n",
    "        return '\\t This is the greet() func inside hello func'\n",
    "    \n",
    "    def welcome():\n",
    "        return '\\t This is the welcome() func inside hello func'\n",
    "    print(greet())    # prints greet which is being returned\n",
    "    print(welcome()) # Execute welcome and print it\n",
    "    print('This is the end of the hello function')"
   ]
  },
  {
   "cell_type": "code",
   "execution_count": 6,
   "id": "17e6cd97",
   "metadata": {},
   "outputs": [
    {
     "name": "stdout",
     "output_type": "stream",
     "text": [
      "Hello() function has been executed\n",
      "\t This is the greet() func inside hello func\n",
      "\t This is the welcome() func inside hello func\n",
      "This is the end of the hello function\n"
     ]
    }
   ],
   "source": [
    "hello()"
   ]
  },
  {
   "cell_type": "code",
   "execution_count": 7,
   "id": "322b65fd",
   "metadata": {},
   "outputs": [],
   "source": [
    "# the scope of greet() and welcome () is limtied to hello()"
   ]
  },
  {
   "cell_type": "code",
   "execution_count": 8,
   "id": "ae369db2",
   "metadata": {},
   "outputs": [],
   "source": [
    "def hello(name='Shaizen'):\n",
    "    print('Hello() function has been executed')\n",
    "    def greet():\n",
    "        return '\\t This is the greet() func inside hello func'\n",
    "    \n",
    "    def welcome():\n",
    "        return '\\t This is the welcome() func inside hello func'\n",
    "    print(\"I am going to return a function!!\")\n",
    "    \n",
    "    if name == 'Shaizen':\n",
    "        return greet\n",
    "    else: \n",
    "        return welcome"
   ]
  },
  {
   "cell_type": "code",
   "execution_count": 9,
   "id": "964aa8be",
   "metadata": {},
   "outputs": [
    {
     "name": "stdout",
     "output_type": "stream",
     "text": [
      "Hello() function has been executed\n",
      "I am going to return a function!!\n"
     ]
    }
   ],
   "source": [
    "my_new_func = hello()"
   ]
  },
  {
   "cell_type": "code",
   "execution_count": 12,
   "id": "bdf78b12",
   "metadata": {},
   "outputs": [
    {
     "name": "stdout",
     "output_type": "stream",
     "text": [
      "\t This is the greet() func inside hello func\n"
     ]
    }
   ],
   "source": [
    "print(my_new_func()) # Returns a new function"
   ]
  },
  {
   "cell_type": "code",
   "execution_count": null,
   "id": "1208c2a0",
   "metadata": {},
   "outputs": [],
   "source": []
  },
  {
   "cell_type": "code",
   "execution_count": 13,
   "id": "c93c6887",
   "metadata": {},
   "outputs": [],
   "source": [
    "def cool():\n",
    "    def super_cool():\n",
    "        return \"I am very cool\"\n",
    "    \n",
    "    return super_cool #return a function"
   ]
  },
  {
   "cell_type": "code",
   "execution_count": 16,
   "id": "9e95274b",
   "metadata": {},
   "outputs": [
    {
     "data": {
      "text/plain": [
       "<function __main__.cool.<locals>.super_cool()>"
      ]
     },
     "execution_count": 16,
     "metadata": {},
     "output_type": "execute_result"
    }
   ],
   "source": [
    "some_func = cool() # stores a function\n",
    "some_func"
   ]
  },
  {
   "cell_type": "code",
   "execution_count": null,
   "id": "4169f8fb",
   "metadata": {},
   "outputs": [],
   "source": []
  },
  {
   "cell_type": "code",
   "execution_count": null,
   "id": "c4531e59",
   "metadata": {},
   "outputs": [],
   "source": []
  },
  {
   "cell_type": "code",
   "execution_count": 17,
   "id": "21e849d1",
   "metadata": {},
   "outputs": [],
   "source": [
    "def hello():\n",
    "    return 'Hey buddy boi'"
   ]
  },
  {
   "cell_type": "code",
   "execution_count": 18,
   "id": "ca91d884",
   "metadata": {},
   "outputs": [],
   "source": [
    "def other(some_def_func):\n",
    "    print('Other code runs here')\n",
    "    print(some_def_func())"
   ]
  },
  {
   "cell_type": "code",
   "execution_count": 19,
   "id": "a8c3c7f6",
   "metadata": {},
   "outputs": [
    {
     "data": {
      "text/plain": [
       "<function __main__.hello()>"
      ]
     },
     "execution_count": 19,
     "metadata": {},
     "output_type": "execute_result"
    }
   ],
   "source": [
    "hello # function hello"
   ]
  },
  {
   "cell_type": "code",
   "execution_count": 20,
   "id": "bc6a2131",
   "metadata": {},
   "outputs": [
    {
     "data": {
      "text/plain": [
       "'Hey buddy boi'"
      ]
     },
     "execution_count": 20,
     "metadata": {},
     "output_type": "execute_result"
    }
   ],
   "source": [
    "hello() # execute the function"
   ]
  },
  {
   "cell_type": "code",
   "execution_count": 21,
   "id": "dbdc48d2",
   "metadata": {},
   "outputs": [
    {
     "name": "stdout",
     "output_type": "stream",
     "text": [
      "Other code runs here\n",
      "Hey buddy boi\n"
     ]
    }
   ],
   "source": [
    "other(hello) #passes hello to other"
   ]
  },
  {
   "cell_type": "code",
   "execution_count": null,
   "id": "27b8588e",
   "metadata": {},
   "outputs": [],
   "source": []
  },
  {
   "cell_type": "code",
   "execution_count": null,
   "id": "8f73d6ef",
   "metadata": {},
   "outputs": [],
   "source": []
  },
  {
   "cell_type": "code",
   "execution_count": null,
   "id": "72eff912",
   "metadata": {},
   "outputs": [],
   "source": []
  },
  {
   "cell_type": "code",
   "execution_count": 22,
   "id": "d588a99f",
   "metadata": {},
   "outputs": [],
   "source": [
    "def new_decorator(origional_func):\n",
    "    def wrap_func():\n",
    "        \n",
    "        # these print statements are like wrapping paper around the function\n",
    "        print('Some extra code before the origional function')\n",
    "        \n",
    "        origional_func()\n",
    "        \n",
    "        print('Some extra code after func')\n",
    "    \n",
    "    return wrap_func # return the wrapped function"
   ]
  },
  {
   "cell_type": "code",
   "execution_count": 23,
   "id": "bf6344ba",
   "metadata": {},
   "outputs": [],
   "source": [
    "def func_needs_decorator():\n",
    "    print('I want to be decorated!')"
   ]
  },
  {
   "cell_type": "code",
   "execution_count": 25,
   "id": "c6f9e236",
   "metadata": {},
   "outputs": [
    {
     "name": "stdout",
     "output_type": "stream",
     "text": [
      "I want to be decorated!\n"
     ]
    }
   ],
   "source": [
    "func_needs_decorator()"
   ]
  },
  {
   "cell_type": "code",
   "execution_count": 28,
   "id": "5580f45e",
   "metadata": {},
   "outputs": [
    {
     "name": "stdout",
     "output_type": "stream",
     "text": [
      "Some extra code before the origional function\n",
      "I want to be decorated!\n",
      "Some extra code after func\n"
     ]
    }
   ],
   "source": [
    "my_decorated_func = new_decorator(func_needs_decorator)\n",
    "my_decorated_func() #wrapped version of func"
   ]
  },
  {
   "cell_type": "code",
   "execution_count": null,
   "id": "2dd961c4",
   "metadata": {},
   "outputs": [],
   "source": []
  },
  {
   "cell_type": "code",
   "execution_count": 33,
   "id": "3aeb8a66",
   "metadata": {},
   "outputs": [],
   "source": [
    "# another way of creating a decorator function\n",
    "@new_decorator # Creates a new decorator (by wrapping)\n",
    "def func_needs_decorator():\n",
    "    print('I want to be decorated!')"
   ]
  },
  {
   "cell_type": "code",
   "execution_count": 34,
   "id": "245fad84",
   "metadata": {},
   "outputs": [
    {
     "name": "stdout",
     "output_type": "stream",
     "text": [
      "Some extra code before the origional function\n",
      "I want to be decorated!\n",
      "Some extra code after func\n"
     ]
    }
   ],
   "source": [
    "func_needs_decorator()"
   ]
  },
  {
   "cell_type": "code",
   "execution_count": null,
   "id": "631bc1cd",
   "metadata": {},
   "outputs": [],
   "source": []
  }
 ],
 "metadata": {
  "kernelspec": {
   "display_name": "Python 3",
   "language": "python",
   "name": "python3"
  },
  "language_info": {
   "codemirror_mode": {
    "name": "ipython",
    "version": 3
   },
   "file_extension": ".py",
   "mimetype": "text/x-python",
   "name": "python",
   "nbconvert_exporter": "python",
   "pygments_lexer": "ipython3",
   "version": "3.8.8"
  }
 },
 "nbformat": 4,
 "nbformat_minor": 5
}
