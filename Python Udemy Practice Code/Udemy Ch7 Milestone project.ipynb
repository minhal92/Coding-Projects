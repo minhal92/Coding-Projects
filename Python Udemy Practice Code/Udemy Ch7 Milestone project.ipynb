{
 "cells": [
  {
   "cell_type": "code",
   "execution_count": null,
   "id": "a34ec1c9",
   "metadata": {},
   "outputs": [],
   "source": [
    "def display(row1,row2,row3):\n",
    "    print(row1)\n",
    "    print(row2)\n",
    "    print(row3)"
   ]
  },
  {
   "cell_type": "code",
   "execution_count": null,
   "id": "95f509b0",
   "metadata": {},
   "outputs": [],
   "source": [
    "row1 = [' ',' ',' ']\n",
    "row2 = [' ',' ',' ']\n",
    "row3 = [' ',' ',' ']\n",
    "display(example_row,example_row,example_row)"
   ]
  },
  {
   "cell_type": "code",
   "execution_count": null,
   "id": "40a2d875",
   "metadata": {},
   "outputs": [],
   "source": [
    "row1 = [' ',' ',' ']\n",
    "row2 = [' ',' ',' ']\n",
    "row3 = [' ',' ',' ']\n",
    "display(row1,row2,row3)"
   ]
  },
  {
   "cell_type": "code",
   "execution_count": null,
   "id": "bdf52863",
   "metadata": {},
   "outputs": [],
   "source": [
    "row2[1]='X'"
   ]
  },
  {
   "cell_type": "code",
   "execution_count": null,
   "id": "e5e725ff",
   "metadata": {},
   "outputs": [],
   "source": [
    "display(row1,row2,row3)"
   ]
  },
  {
   "cell_type": "code",
   "execution_count": null,
   "id": "24ac7d08",
   "metadata": {},
   "outputs": [],
   "source": [
    "# Input function returns string, need to convert that to int\n",
    "position_index = input(\"Choose an index positon: \")"
   ]
  },
  {
   "cell_type": "code",
   "execution_count": null,
   "id": "e29b5a84",
   "metadata": {},
   "outputs": [],
   "source": [
    "type(position_index) #this is a string"
   ]
  },
  {
   "cell_type": "code",
   "execution_count": null,
   "id": "45183669",
   "metadata": {},
   "outputs": [],
   "source": [
    "position_index = int(position_index) #converts to a integer\n",
    "type(position_index) "
   ]
  },
  {
   "cell_type": "code",
   "execution_count": null,
   "id": "7367ee09",
   "metadata": {},
   "outputs": [],
   "source": [
    "# make user input more flexible and validate it\n",
    "\n",
    "def user_choice():\n",
    "    choice = 'Wrong' # Start with any value that is not true for .isdigit\n",
    "    while choice.isdigit() == False: #Keeps asking for input while digit\n",
    "        choice = input(\"Please enter a number between (0-10): \")\n",
    "        if choice.isdigit() == False:\n",
    "            print('Not a digit, try again')\n",
    "    return int(choice)\n",
    "user_choice()"
   ]
  },
  {
   "cell_type": "code",
   "execution_count": null,
   "id": "4585196b",
   "metadata": {},
   "outputs": [],
   "source": [
    "user_choice() # The initial function does not check for validating input\n",
    "# The is digit test works good for validation\n",
    "def user_choice():\n",
    "    choice = input(\"Please enter a number between (0-10): \")\n",
    "    return int(choice)"
   ]
  },
  {
   "cell_type": "code",
   "execution_count": null,
   "id": "a8161288",
   "metadata": {},
   "outputs": [],
   "source": [
    "# Can even have a check against acceptable values\n",
    "\n",
    "def user_choice():\n",
    "    \n",
    "    # Initial variables\n",
    "    choice = 'Wrong' # Start with any value that is not true for .isdigit\n",
    "    acceptable_range = range(0,10)\n",
    "    within_range = False\n",
    "    \n",
    "    #Two conditions to check, digit or within range\n",
    "    while choice.isdigit() == False or within_range==False: #Keeps asking for input while digit\n",
    "        choice = input(\"Please enter a number between (0-10): \")\n",
    "        if choice.isdigit() == False:\n",
    "            print('Not a digit, try again')\n",
    "        else:\n",
    "            if int(choice) in acceptable_range:\n",
    "                within_range = True\n",
    "            else:\n",
    "                print('Number outside range')\n",
    "                      \n",
    "    return int(choice)\n"
   ]
  },
  {
   "cell_type": "code",
   "execution_count": null,
   "id": "a3641276",
   "metadata": {},
   "outputs": [],
   "source": [
    "user_choice()"
   ]
  },
  {
   "cell_type": "code",
   "execution_count": 28,
   "id": "67429eca",
   "metadata": {},
   "outputs": [
    {
     "ename": "SyntaxError",
     "evalue": "invalid syntax (<ipython-input-28-039c61de4595>, line 1)",
     "output_type": "error",
     "traceback": [
      "\u001b[1;36m  File \u001b[1;32m\"<ipython-input-28-039c61de4595>\"\u001b[1;36m, line \u001b[1;32m1\u001b[0m\n\u001b[1;33m    game_list = [0,1,2;4,5,6]\u001b[0m\n\u001b[1;37m                      ^\u001b[0m\n\u001b[1;31mSyntaxError\u001b[0m\u001b[1;31m:\u001b[0m invalid syntax\n"
     ]
    }
   ],
   "source": [
    "game_list = [0,1,24,5,6]\n",
    "game_list"
   ]
  },
  {
   "cell_type": "code",
   "execution_count": 4,
   "id": "bc84b59d",
   "metadata": {},
   "outputs": [
    {
     "name": "stdout",
     "output_type": "stream",
     "text": [
      "Here is the current list: \n",
      "[0, 1, 2]\n"
     ]
    }
   ],
   "source": [
    "def display_game(game_list):\n",
    "    print('Here is the current list: ')\n",
    "    print(game_list)\n",
    "display_game(game_list)"
   ]
  },
  {
   "cell_type": "code",
   "execution_count": 5,
   "id": "0df5b07c",
   "metadata": {},
   "outputs": [],
   "source": [
    "game_list = [0,1,2]\n",
    "def position_choice():\n",
    "    choice = 'wrong'\n",
    "    while choice not in ['0','1','2']:\n",
    "        choice = input(f'Pick a positon from {0,1,2}: ')\n",
    "        if choice not in ['0','1','2']:\n",
    "            print(f\"Sorry your {choice} is invalid\")\n",
    "    return int(choice)"
   ]
  },
  {
   "cell_type": "code",
   "execution_count": 6,
   "id": "9c7f13a8",
   "metadata": {},
   "outputs": [
    {
     "name": "stdout",
     "output_type": "stream",
     "text": [
      "Pick a positon from (0, 1, 2): \n",
      "Sorry your  is invalid\n",
      "Pick a positon from (0, 1, 2): 1\n"
     ]
    },
    {
     "data": {
      "text/plain": [
       "1"
      ]
     },
     "execution_count": 6,
     "metadata": {},
     "output_type": "execute_result"
    }
   ],
   "source": [
    "position_choice()"
   ]
  },
  {
   "cell_type": "code",
   "execution_count": 7,
   "id": "f0d863b8",
   "metadata": {},
   "outputs": [
    {
     "data": {
      "text/plain": [
       "list"
      ]
     },
     "execution_count": 7,
     "metadata": {},
     "output_type": "execute_result"
    }
   ],
   "source": [
    "type(game_list)"
   ]
  },
  {
   "cell_type": "code",
   "execution_count": 8,
   "id": "49863495",
   "metadata": {},
   "outputs": [
    {
     "name": "stdout",
     "output_type": "stream",
     "text": [
      "['0', '1', '2']\n"
     ]
    }
   ],
   "source": [
    "list_string = map(str, game_list) \n",
    "print(list(list_string))\n"
   ]
  },
  {
   "cell_type": "code",
   "execution_count": 9,
   "id": "a77bb010",
   "metadata": {},
   "outputs": [],
   "source": [
    "def replacement_choice(game_list,position):\n",
    "    user_placement = input(\"Type a string to place at position: \")\n",
    "    game_list[position] = user_placement\n",
    "    return game_list"
   ]
  },
  {
   "cell_type": "code",
   "execution_count": 10,
   "id": "164e994b",
   "metadata": {},
   "outputs": [
    {
     "name": "stdout",
     "output_type": "stream",
     "text": [
      "Type a string to place at position: \n"
     ]
    },
    {
     "data": {
      "text/plain": [
       "[0, 1, '']"
      ]
     },
     "execution_count": 10,
     "metadata": {},
     "output_type": "execute_result"
    }
   ],
   "source": [
    "replacement_choice(game_list,2)"
   ]
  },
  {
   "cell_type": "code",
   "execution_count": 20,
   "id": "e254aa10",
   "metadata": {},
   "outputs": [],
   "source": [
    "def gameon_choice():\n",
    "    choice = 'wrong'\n",
    "    while choice not in ['Y','N','2']:\n",
    "        choice = input('Do you want to keep playing? Choose Y or N: ')\n",
    "        choice = choice.capitalize()\n",
    "        #print(choice)\n",
    "        if choice not in ['Y','N']:\n",
    "            print(f\"Sorry your {choice} is invalid choose Y or N\")\n",
    "    if choice == \"Y\":\n",
    "        return True\n",
    "    else:\n",
    "        return False"
   ]
  },
  {
   "cell_type": "code",
   "execution_count": 18,
   "id": "b8b8b1c1",
   "metadata": {},
   "outputs": [
    {
     "name": "stdout",
     "output_type": "stream",
     "text": [
      "Do you want to keep playing? Choose Y or N: n\n",
      "N\n"
     ]
    },
    {
     "data": {
      "text/plain": [
       "False"
      ]
     },
     "execution_count": 18,
     "metadata": {},
     "output_type": "execute_result"
    }
   ],
   "source": [
    "gameon_choice()"
   ]
  },
  {
   "cell_type": "code",
   "execution_count": 13,
   "id": "16c47134",
   "metadata": {},
   "outputs": [
    {
     "ename": "NameError",
     "evalue": "name 'capitalize' is not defined",
     "output_type": "error",
     "traceback": [
      "\u001b[1;31m---------------------------------------------------------------------------\u001b[0m",
      "\u001b[1;31mNameError\u001b[0m                                 Traceback (most recent call last)",
      "\u001b[1;32m<ipython-input-13-3d1e8816f661>\u001b[0m in \u001b[0;36m<module>\u001b[1;34m\u001b[0m\n\u001b[1;32m----> 1\u001b[1;33m \u001b[0ma\u001b[0m\u001b[1;33m=\u001b[0m\u001b[0mcapitalize\u001b[0m\u001b[1;33m(\u001b[0m\u001b[1;34m'a'\u001b[0m\u001b[1;33m)\u001b[0m\u001b[1;33m\u001b[0m\u001b[1;33m\u001b[0m\u001b[0m\n\u001b[0m\u001b[0;32m      2\u001b[0m \u001b[0ma\u001b[0m\u001b[1;33m\u001b[0m\u001b[1;33m\u001b[0m\u001b[0m\n\u001b[0;32m      3\u001b[0m \u001b[1;31m#b = a.capitalize()\u001b[0m\u001b[1;33m\u001b[0m\u001b[1;33m\u001b[0m\u001b[1;33m\u001b[0m\u001b[0m\n\u001b[0;32m      4\u001b[0m \u001b[1;31m#b\u001b[0m\u001b[1;33m\u001b[0m\u001b[1;33m\u001b[0m\u001b[1;33m\u001b[0m\u001b[0m\n",
      "\u001b[1;31mNameError\u001b[0m: name 'capitalize' is not defined"
     ]
    }
   ],
   "source": [
    "a=capitalize('a')\n",
    "a\n",
    "#b = a.capitalize()\n",
    "#b"
   ]
  },
  {
   "cell_type": "code",
   "execution_count": 19,
   "id": "bd0fb459",
   "metadata": {},
   "outputs": [
    {
     "name": "stdout",
     "output_type": "stream",
     "text": [
      "Here is the current list: \n",
      "[0, 1, 2]\n",
      "Pick a positon from (0, 1, 2): 1\n",
      "Type a string to place at position: s\n",
      "Here is the current list: \n",
      "[0, 's', 2]\n",
      "Do you want to keep playing? Choose Y or N: n\n",
      "N\n"
     ]
    }
   ],
   "source": [
    "# Test the game\n",
    "\n",
    "game_on = True\n",
    "game_list = [0,1,2]\n",
    "\n",
    "while game_on:\n",
    "    display_game(game_list)\n",
    "    \n",
    "    position = position_choice()\n",
    "    \n",
    "    game_list = replacement_choice(game_list,position)\n",
    "    \n",
    "    display_game(game_list)\n",
    "    \n",
    "    game_on = gameon_choice()"
   ]
  },
  {
   "cell_type": "code",
   "execution_count": null,
   "id": "c4021ef4",
   "metadata": {},
   "outputs": [],
   "source": []
  },
  {
   "cell_type": "code",
   "execution_count": null,
   "id": "0da16fce",
   "metadata": {},
   "outputs": [],
   "source": []
  },
  {
   "cell_type": "code",
   "execution_count": 21,
   "id": "f3d8d0da",
   "metadata": {},
   "outputs": [],
   "source": [
    "# Milestone project 1"
   ]
  },
  {
   "cell_type": "code",
   "execution_count": 24,
   "id": "426c0ef2",
   "metadata": {},
   "outputs": [],
   "source": [
    "def choose_symbol():\n",
    "    choice = 'wrong'\n",
    "    while choice not in ['X','O']:\n",
    "        choice = input('Do you want to be X or O? ')\n",
    "        choice = choice.capitalize()\n",
    "        if choice not in ['X','O']:\n",
    "            print(f\"Sorry your {choice} is invalid choose X or O\")\n",
    "    return choice\n",
    "    #if choice == \"X\":\n",
    "    #    return True\n",
    "    #else:\n",
    "    #    return False"
   ]
  },
  {
   "cell_type": "code",
   "execution_count": 43,
   "id": "428e8b10",
   "metadata": {},
   "outputs": [],
   "source": [
    "def symbol_position():\n",
    "    positions_all = ['1','2','3','4','5','6','7','8','9']\n",
    "    position = 'wrong'\n",
    "    while position not in positions_all:\n",
    "        position = int(input(\"Type a number between 1-9 to place marker: \"))\n",
    "        if position not in positions_all:\n",
    "            print(f\"Sorry your {position} is invalid choose 1-9\")\n",
    "    return position"
   ]
  },
  {
   "cell_type": "code",
   "execution_count": 44,
   "id": "0e9907a4",
   "metadata": {},
   "outputs": [
    {
     "name": "stdout",
     "output_type": "stream",
     "text": [
      "Type a number between 1-9 to place marker: fuck\n",
      "Sorry your fuck is invalid choose 1-9\n",
      "Type a number between 1-9 to place marker: dude\n",
      "Sorry your dude is invalid choose 1-9\n",
      "Type a number between 1-9 to place marker: 11\n",
      "Sorry your 11 is invalid choose 1-9\n",
      "Type a number between 1-9 to place marker: 8\n"
     ]
    },
    {
     "data": {
      "text/plain": [
       "8"
      ]
     },
     "execution_count": 44,
     "metadata": {},
     "output_type": "execute_result"
    }
   ],
   "source": [
    "#choose_symbol()\n",
    "symbol_position()"
   ]
  },
  {
   "cell_type": "code",
   "execution_count": null,
   "id": "f3957d57",
   "metadata": {},
   "outputs": [],
   "source": []
  }
 ],
 "metadata": {
  "kernelspec": {
   "display_name": "Python 3",
   "language": "python",
   "name": "python3"
  },
  "language_info": {
   "codemirror_mode": {
    "name": "ipython",
    "version": 3
   },
   "file_extension": ".py",
   "mimetype": "text/x-python",
   "name": "python",
   "nbconvert_exporter": "python",
   "pygments_lexer": "ipython3",
   "version": "3.8.8"
  }
 },
 "nbformat": 4,
 "nbformat_minor": 5
}
