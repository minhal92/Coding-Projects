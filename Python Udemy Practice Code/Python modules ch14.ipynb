{
 "cells": [
  {
   "cell_type": "code",
   "execution_count": 1,
   "id": "d4e8eac0",
   "metadata": {},
   "outputs": [],
   "source": [
    "# collections modules \n",
    "# specialized container types in Python"
   ]
  },
  {
   "cell_type": "code",
   "execution_count": 2,
   "id": "1c8115a8",
   "metadata": {},
   "outputs": [],
   "source": [
    "# Collections module\n",
    "from collections import Counter"
   ]
  },
  {
   "cell_type": "code",
   "execution_count": 3,
   "id": "b92c03ff",
   "metadata": {},
   "outputs": [],
   "source": [
    "mylist = [1,1,1,1,1,1,1,2,2,2,2,2,2,2,2,3,3,3,3,3]"
   ]
  },
  {
   "cell_type": "code",
   "execution_count": 4,
   "id": "87ab2f81",
   "metadata": {},
   "outputs": [],
   "source": [
    "# how can you count the number of unique objects in this list"
   ]
  },
  {
   "cell_type": "code",
   "execution_count": 5,
   "id": "9a2c34d4",
   "metadata": {},
   "outputs": [
    {
     "data": {
      "text/plain": [
       "Counter({1: 7, 2: 8, 3: 5})"
      ]
     },
     "execution_count": 5,
     "metadata": {},
     "output_type": "execute_result"
    }
   ],
   "source": [
    "Counter(mylist) # counts instances of each unique object"
   ]
  },
  {
   "cell_type": "code",
   "execution_count": 6,
   "id": "5bbca333",
   "metadata": {},
   "outputs": [],
   "source": [
    "mylist2 = ['a','a','a','a','b','b','c','c','c']"
   ]
  },
  {
   "cell_type": "code",
   "execution_count": 8,
   "id": "4feb9648",
   "metadata": {},
   "outputs": [
    {
     "data": {
      "text/plain": [
       "Counter({'a': 4, 'b': 2, 'c': 3})"
      ]
     },
     "execution_count": 8,
     "metadata": {},
     "output_type": "execute_result"
    }
   ],
   "source": [
    "Counter(mylist2) # can also count unqiue strings"
   ]
  },
  {
   "cell_type": "code",
   "execution_count": 12,
   "id": "754b0e54",
   "metadata": {},
   "outputs": [],
   "source": [
    "sentence = 'How many times does a word appear in this sentence'"
   ]
  },
  {
   "cell_type": "code",
   "execution_count": 13,
   "id": "cbf65b1b",
   "metadata": {},
   "outputs": [
    {
     "data": {
      "text/plain": [
       "Counter({'how': 1,\n",
       "         'many': 1,\n",
       "         'times': 1,\n",
       "         'does': 1,\n",
       "         'a': 1,\n",
       "         'word': 1,\n",
       "         'appear': 1,\n",
       "         'in': 1,\n",
       "         'this': 1,\n",
       "         'sentence': 1})"
      ]
     },
     "execution_count": 13,
     "metadata": {},
     "output_type": "execute_result"
    }
   ],
   "source": [
    "Counter(sentence.lower().split())"
   ]
  },
  {
   "cell_type": "code",
   "execution_count": 15,
   "id": "4d9b1fa0",
   "metadata": {},
   "outputs": [],
   "source": [
    "letters = 'aaaaaaaaaabbccccccddddddddddddddddddddddddddddddd'"
   ]
  },
  {
   "cell_type": "code",
   "execution_count": 18,
   "id": "011306bb",
   "metadata": {},
   "outputs": [
    {
     "data": {
      "text/plain": [
       "Counter({'a': 10, 'b': 2, 'c': 6, 'd': 31})"
      ]
     },
     "execution_count": 18,
     "metadata": {},
     "output_type": "execute_result"
    }
   ],
   "source": [
    "c = Counter(letters)\n",
    "c"
   ]
  },
  {
   "cell_type": "code",
   "execution_count": 20,
   "id": "d0e906a9",
   "metadata": {},
   "outputs": [
    {
     "data": {
      "text/plain": [
       "[('d', 31), ('a', 10), ('c', 6), ('b', 2)]"
      ]
     },
     "execution_count": 20,
     "metadata": {},
     "output_type": "execute_result"
    }
   ],
   "source": [
    "c.most_common() # list by the lost common patterns"
   ]
  },
  {
   "cell_type": "code",
   "execution_count": 22,
   "id": "62e83de8",
   "metadata": {},
   "outputs": [
    {
     "data": {
      "text/plain": [
       "['a', 'b', 'c', 'd']"
      ]
     },
     "execution_count": 22,
     "metadata": {},
     "output_type": "execute_result"
    }
   ],
   "source": [
    "list(c) #can list the uniqe objects in order"
   ]
  },
  {
   "cell_type": "code",
   "execution_count": 23,
   "id": "d34304e8",
   "metadata": {},
   "outputs": [],
   "source": [
    "from collections import defaultdict"
   ]
  },
  {
   "cell_type": "code",
   "execution_count": 25,
   "id": "f4064ef0",
   "metadata": {},
   "outputs": [
    {
     "data": {
      "text/plain": [
       "{'a': 10}"
      ]
     },
     "execution_count": 25,
     "metadata": {},
     "output_type": "execute_result"
    }
   ],
   "source": [
    "d = {'a':10}\n",
    "d"
   ]
  },
  {
   "cell_type": "code",
   "execution_count": 26,
   "id": "e8a85382",
   "metadata": {},
   "outputs": [
    {
     "data": {
      "text/plain": [
       "10"
      ]
     },
     "execution_count": 26,
     "metadata": {},
     "output_type": "execute_result"
    }
   ],
   "source": [
    "d['a'] # pull up the value"
   ]
  },
  {
   "cell_type": "code",
   "execution_count": 27,
   "id": "56258bed",
   "metadata": {},
   "outputs": [
    {
     "ename": "KeyError",
     "evalue": "'wrong'",
     "output_type": "error",
     "traceback": [
      "\u001b[1;31m---------------------------------------------------------------------------\u001b[0m",
      "\u001b[1;31mKeyError\u001b[0m                                  Traceback (most recent call last)",
      "\u001b[1;32m<ipython-input-27-98ac4efd06a7>\u001b[0m in \u001b[0;36m<module>\u001b[1;34m\u001b[0m\n\u001b[1;32m----> 1\u001b[1;33m \u001b[0md\u001b[0m\u001b[1;33m[\u001b[0m\u001b[1;34m'wrong'\u001b[0m\u001b[1;33m]\u001b[0m \u001b[1;31m# results in an error since the key doesn't exist\u001b[0m\u001b[1;33m\u001b[0m\u001b[1;33m\u001b[0m\u001b[0m\n\u001b[0m",
      "\u001b[1;31mKeyError\u001b[0m: 'wrong'"
     ]
    }
   ],
   "source": [
    "d['wrong'] # results in an error since the key doesn't exist"
   ]
  },
  {
   "cell_type": "code",
   "execution_count": 29,
   "id": "3d2497b0",
   "metadata": {},
   "outputs": [],
   "source": [
    "d = defaultdict(lambda:0) # with this lambda all default values are set to 0"
   ]
  },
  {
   "cell_type": "code",
   "execution_count": 30,
   "id": "f3846210",
   "metadata": {},
   "outputs": [
    {
     "data": {
      "text/plain": [
       "0"
      ]
     },
     "execution_count": 30,
     "metadata": {},
     "output_type": "execute_result"
    }
   ],
   "source": [
    "d['correct'] #results in the default value"
   ]
  },
  {
   "cell_type": "code",
   "execution_count": 32,
   "id": "b1f7d434",
   "metadata": {},
   "outputs": [
    {
     "data": {
      "text/plain": [
       "defaultdict(<function __main__.<lambda>()>, {'correct': 0})"
      ]
     },
     "execution_count": 32,
     "metadata": {},
     "output_type": "execute_result"
    }
   ],
   "source": [
    "d # now it adds the lambda key for the value"
   ]
  },
  {
   "cell_type": "code",
   "execution_count": 34,
   "id": "b99f6c35",
   "metadata": {},
   "outputs": [
    {
     "data": {
      "text/plain": [
       "10"
      ]
     },
     "execution_count": 34,
     "metadata": {},
     "output_type": "execute_result"
    }
   ],
   "source": [
    "mytuple = (10,20,30)\n",
    "mytuple[0] # first value in tuple"
   ]
  },
  {
   "cell_type": "code",
   "execution_count": 35,
   "id": "1332b96f",
   "metadata": {},
   "outputs": [],
   "source": [
    "from collections import namedtuple"
   ]
  },
  {
   "cell_type": "code",
   "execution_count": 36,
   "id": "4927263c",
   "metadata": {},
   "outputs": [],
   "source": [
    "Dog = namedtuple('Dog',['age','breed','name'])"
   ]
  },
  {
   "cell_type": "code",
   "execution_count": 37,
   "id": "95c00535",
   "metadata": {},
   "outputs": [],
   "source": [
    "sammy = Dog(age = 5, breed = 'Husky', name = 'Shululu-sama')"
   ]
  },
  {
   "cell_type": "code",
   "execution_count": 38,
   "id": "5a504baf",
   "metadata": {},
   "outputs": [
    {
     "data": {
      "text/plain": [
       "Dog(age=5, breed='Husky', name='Shululu-sama')"
      ]
     },
     "execution_count": 38,
     "metadata": {},
     "output_type": "execute_result"
    }
   ],
   "source": [
    "sammy # can call the tuple"
   ]
  },
  {
   "cell_type": "code",
   "execution_count": 40,
   "id": "56d30de5",
   "metadata": {},
   "outputs": [
    {
     "data": {
      "text/plain": [
       "5"
      ]
     },
     "execution_count": 40,
     "metadata": {},
     "output_type": "execute_result"
    }
   ],
   "source": [
    "sammy.age # can call the values in tuple using the name"
   ]
  },
  {
   "cell_type": "code",
   "execution_count": 42,
   "id": "df88e5d1",
   "metadata": {},
   "outputs": [
    {
     "data": {
      "text/plain": [
       "5"
      ]
     },
     "execution_count": 42,
     "metadata": {},
     "output_type": "execute_result"
    }
   ],
   "source": [
    "sammy[0] # same as the named tuple value"
   ]
  },
  {
   "cell_type": "code",
   "execution_count": 43,
   "id": "de1d52b2",
   "metadata": {},
   "outputs": [],
   "source": [
    "# shell utilities and shuttle module"
   ]
  },
  {
   "cell_type": "code",
   "execution_count": null,
   "id": "9cefa112",
   "metadata": {},
   "outputs": [],
   "source": []
  },
  {
   "cell_type": "code",
   "execution_count": null,
   "id": "a646ae10",
   "metadata": {},
   "outputs": [],
   "source": []
  },
  {
   "cell_type": "markdown",
   "id": "47d5e24d",
   "metadata": {},
   "source": [
    "# Python debugger"
   ]
  },
  {
   "cell_type": "code",
   "execution_count": 2,
   "id": "07b02adb",
   "metadata": {},
   "outputs": [],
   "source": [
    "x = [1,2,3]\n",
    "y = 2\n",
    "z = 3\n",
    "result = y + z\n",
    "\n",
    "result2 = x + y # Will give an error\n",
    "# often you will use print functions to try and debug"
   ]
  },
  {
   "cell_type": "code",
   "execution_count": 6,
   "id": "a69ad8ac",
   "metadata": {},
   "outputs": [
    {
     "name": "stdout",
     "output_type": "stream",
     "text": [
      "--Call--\n",
      "> \u001b[1;32mc:\\programdata\\anaconda3\\lib\\site-packages\\ipython\\core\\displayhook.py\u001b[0m(252)\u001b[0;36m__call__\u001b[1;34m()\u001b[0m\n",
      "\u001b[1;32m    250 \u001b[1;33m        \u001b[0msys\u001b[0m\u001b[1;33m.\u001b[0m\u001b[0mstdout\u001b[0m\u001b[1;33m.\u001b[0m\u001b[0mflush\u001b[0m\u001b[1;33m(\u001b[0m\u001b[1;33m)\u001b[0m\u001b[1;33m\u001b[0m\u001b[1;33m\u001b[0m\u001b[0m\n",
      "\u001b[0m\u001b[1;32m    251 \u001b[1;33m\u001b[1;33m\u001b[0m\u001b[0m\n",
      "\u001b[0m\u001b[1;32m--> 252 \u001b[1;33m    \u001b[1;32mdef\u001b[0m \u001b[0m__call__\u001b[0m\u001b[1;33m(\u001b[0m\u001b[0mself\u001b[0m\u001b[1;33m,\u001b[0m \u001b[0mresult\u001b[0m\u001b[1;33m=\u001b[0m\u001b[1;32mNone\u001b[0m\u001b[1;33m)\u001b[0m\u001b[1;33m:\u001b[0m\u001b[1;33m\u001b[0m\u001b[1;33m\u001b[0m\u001b[0m\n",
      "\u001b[0m\u001b[1;32m    253 \u001b[1;33m        \"\"\"Printing with history cache management.\n",
      "\u001b[0m\u001b[1;32m    254 \u001b[1;33m\u001b[1;33m\u001b[0m\u001b[0m\n",
      "\u001b[0m\n",
      "ipdb> q\n"
     ]
    },
    {
     "ename": "BdbQuit",
     "evalue": "",
     "output_type": "error",
     "traceback": [
      "\u001b[1;31m---------------------------------------------------------------------------\u001b[0m",
      "\u001b[1;31mBdbQuit\u001b[0m                                   Traceback (most recent call last)",
      "\u001b[1;32m<ipython-input-6-b11baede6ec9>\u001b[0m in \u001b[0;36m<module>\u001b[1;34m\u001b[0m\n\u001b[0;32m      1\u001b[0m \u001b[1;32mimport\u001b[0m \u001b[0mpdb\u001b[0m\u001b[1;33m\u001b[0m\u001b[1;33m\u001b[0m\u001b[0m\n\u001b[1;32m----> 2\u001b[1;33m \u001b[0mpdb\u001b[0m\u001b[1;33m.\u001b[0m\u001b[0mset_trace\u001b[0m\u001b[1;33m(\u001b[0m\u001b[1;33m)\u001b[0m\u001b[1;33m\u001b[0m\u001b[1;33m\u001b[0m\u001b[0m\n\u001b[0m",
      "\u001b[1;32mC:\\ProgramData\\Anaconda3\\lib\\site-packages\\IPython\\core\\displayhook.py\u001b[0m in \u001b[0;36m__call__\u001b[1;34m(self, result)\u001b[0m\n\u001b[0;32m    250\u001b[0m         \u001b[0msys\u001b[0m\u001b[1;33m.\u001b[0m\u001b[0mstdout\u001b[0m\u001b[1;33m.\u001b[0m\u001b[0mflush\u001b[0m\u001b[1;33m(\u001b[0m\u001b[1;33m)\u001b[0m\u001b[1;33m\u001b[0m\u001b[1;33m\u001b[0m\u001b[0m\n\u001b[0;32m    251\u001b[0m \u001b[1;33m\u001b[0m\u001b[0m\n\u001b[1;32m--> 252\u001b[1;33m     \u001b[1;32mdef\u001b[0m \u001b[0m__call__\u001b[0m\u001b[1;33m(\u001b[0m\u001b[0mself\u001b[0m\u001b[1;33m,\u001b[0m \u001b[0mresult\u001b[0m\u001b[1;33m=\u001b[0m\u001b[1;32mNone\u001b[0m\u001b[1;33m)\u001b[0m\u001b[1;33m:\u001b[0m\u001b[1;33m\u001b[0m\u001b[1;33m\u001b[0m\u001b[0m\n\u001b[0m\u001b[0;32m    253\u001b[0m         \"\"\"Printing with history cache management.\n\u001b[0;32m    254\u001b[0m \u001b[1;33m\u001b[0m\u001b[0m\n",
      "\u001b[1;32mC:\\ProgramData\\Anaconda3\\lib\\bdb.py\u001b[0m in \u001b[0;36mtrace_dispatch\u001b[1;34m(self, frame, event, arg)\u001b[0m\n\u001b[0;32m     88\u001b[0m             \u001b[1;32mreturn\u001b[0m \u001b[0mself\u001b[0m\u001b[1;33m.\u001b[0m\u001b[0mdispatch_line\u001b[0m\u001b[1;33m(\u001b[0m\u001b[0mframe\u001b[0m\u001b[1;33m)\u001b[0m\u001b[1;33m\u001b[0m\u001b[1;33m\u001b[0m\u001b[0m\n\u001b[0;32m     89\u001b[0m         \u001b[1;32mif\u001b[0m \u001b[0mevent\u001b[0m \u001b[1;33m==\u001b[0m \u001b[1;34m'call'\u001b[0m\u001b[1;33m:\u001b[0m\u001b[1;33m\u001b[0m\u001b[1;33m\u001b[0m\u001b[0m\n\u001b[1;32m---> 90\u001b[1;33m             \u001b[1;32mreturn\u001b[0m \u001b[0mself\u001b[0m\u001b[1;33m.\u001b[0m\u001b[0mdispatch_call\u001b[0m\u001b[1;33m(\u001b[0m\u001b[0mframe\u001b[0m\u001b[1;33m,\u001b[0m \u001b[0marg\u001b[0m\u001b[1;33m)\u001b[0m\u001b[1;33m\u001b[0m\u001b[1;33m\u001b[0m\u001b[0m\n\u001b[0m\u001b[0;32m     91\u001b[0m         \u001b[1;32mif\u001b[0m \u001b[0mevent\u001b[0m \u001b[1;33m==\u001b[0m \u001b[1;34m'return'\u001b[0m\u001b[1;33m:\u001b[0m\u001b[1;33m\u001b[0m\u001b[1;33m\u001b[0m\u001b[0m\n\u001b[0;32m     92\u001b[0m             \u001b[1;32mreturn\u001b[0m \u001b[0mself\u001b[0m\u001b[1;33m.\u001b[0m\u001b[0mdispatch_return\u001b[0m\u001b[1;33m(\u001b[0m\u001b[0mframe\u001b[0m\u001b[1;33m,\u001b[0m \u001b[0marg\u001b[0m\u001b[1;33m)\u001b[0m\u001b[1;33m\u001b[0m\u001b[1;33m\u001b[0m\u001b[0m\n",
      "\u001b[1;32mC:\\ProgramData\\Anaconda3\\lib\\bdb.py\u001b[0m in \u001b[0;36mdispatch_call\u001b[1;34m(self, frame, arg)\u001b[0m\n\u001b[0;32m    133\u001b[0m             \u001b[1;32mreturn\u001b[0m \u001b[0mself\u001b[0m\u001b[1;33m.\u001b[0m\u001b[0mtrace_dispatch\u001b[0m\u001b[1;33m\u001b[0m\u001b[1;33m\u001b[0m\u001b[0m\n\u001b[0;32m    134\u001b[0m         \u001b[0mself\u001b[0m\u001b[1;33m.\u001b[0m\u001b[0muser_call\u001b[0m\u001b[1;33m(\u001b[0m\u001b[0mframe\u001b[0m\u001b[1;33m,\u001b[0m \u001b[0marg\u001b[0m\u001b[1;33m)\u001b[0m\u001b[1;33m\u001b[0m\u001b[1;33m\u001b[0m\u001b[0m\n\u001b[1;32m--> 135\u001b[1;33m         \u001b[1;32mif\u001b[0m \u001b[0mself\u001b[0m\u001b[1;33m.\u001b[0m\u001b[0mquitting\u001b[0m\u001b[1;33m:\u001b[0m \u001b[1;32mraise\u001b[0m \u001b[0mBdbQuit\u001b[0m\u001b[1;33m\u001b[0m\u001b[1;33m\u001b[0m\u001b[0m\n\u001b[0m\u001b[0;32m    136\u001b[0m         \u001b[1;32mreturn\u001b[0m \u001b[0mself\u001b[0m\u001b[1;33m.\u001b[0m\u001b[0mtrace_dispatch\u001b[0m\u001b[1;33m\u001b[0m\u001b[1;33m\u001b[0m\u001b[0m\n\u001b[0;32m    137\u001b[0m \u001b[1;33m\u001b[0m\u001b[0m\n",
      "\u001b[1;31mBdbQuit\u001b[0m: "
     ]
    }
   ],
   "source": [
    "import pdb\n",
    "#pdb.set_trace()"
   ]
  },
  {
   "cell_type": "code",
   "execution_count": 4,
   "id": "89aa1615",
   "metadata": {},
   "outputs": [
    {
     "name": "stdout",
     "output_type": "stream",
     "text": [
      "--Return--\n",
      "None\n",
      "> \u001b[1;32m<ipython-input-4-8f14da75d940>\u001b[0m(2)\u001b[0;36m<module>\u001b[1;34m()\u001b[0m\n",
      "\u001b[1;32m      1 \u001b[1;33m\u001b[0mresult_one\u001b[0m \u001b[1;33m=\u001b[0m \u001b[0my\u001b[0m \u001b[1;33m+\u001b[0m \u001b[0mz\u001b[0m\u001b[1;33m\u001b[0m\u001b[1;33m\u001b[0m\u001b[0m\n",
      "\u001b[0m\u001b[1;32m----> 2 \u001b[1;33m\u001b[0mpdb\u001b[0m\u001b[1;33m.\u001b[0m\u001b[0mset_trace\u001b[0m\u001b[1;33m(\u001b[0m\u001b[1;33m)\u001b[0m\u001b[1;33m\u001b[0m\u001b[1;33m\u001b[0m\u001b[0m\n",
      "\u001b[0m\u001b[1;32m      3 \u001b[1;33m\u001b[0mresult_two\u001b[0m \u001b[1;33m=\u001b[0m \u001b[0mx\u001b[0m \u001b[1;33m+\u001b[0m \u001b[0my\u001b[0m \u001b[1;31m# Will give an error\u001b[0m\u001b[1;33m\u001b[0m\u001b[1;33m\u001b[0m\u001b[0m\n",
      "\u001b[0m\u001b[1;32m      4 \u001b[1;33m\u001b[1;31m# often you will use print functions to try and debug\u001b[0m\u001b[1;33m\u001b[0m\u001b[1;33m\u001b[0m\u001b[1;33m\u001b[0m\u001b[0m\n",
      "\u001b[0m\n",
      "ipdb> y\n",
      "2\n",
      "ipdb> z\n",
      "3\n",
      "ipdb> x\n",
      "[1, 2, 3]\n",
      "ipdb> z+y\n",
      "5\n",
      "ipdb> x+y\n",
      "*** TypeError: can only concatenate list (not \"int\") to list\n",
      "ipdb> stop\n",
      "*** NameError: name 'stop' is not defined\n",
      "ipdb> STOP\n",
      "*** NameError: name 'STOP' is not defined\n",
      "ipdb> FUCKING STOP\n",
      "*** SyntaxError: invalid syntax\n",
      "ipdb> YOU MOTHER FUCKING SHITCAN JUST STOP\n",
      "*** SyntaxError: invalid syntax\n",
      "--KeyboardInterrupt--\n",
      "\n",
      "KeyboardInterrupt: Interrupted by user\n"
     ]
    },
    {
     "ename": "TypeError",
     "evalue": "can only concatenate list (not \"int\") to list",
     "output_type": "error",
     "traceback": [
      "\u001b[1;31m---------------------------------------------------------------------------\u001b[0m",
      "\u001b[1;31mTypeError\u001b[0m                                 Traceback (most recent call last)",
      "\u001b[1;32m<ipython-input-4-8f14da75d940>\u001b[0m in \u001b[0;36m<module>\u001b[1;34m\u001b[0m\n\u001b[0;32m      1\u001b[0m \u001b[0mresult_one\u001b[0m \u001b[1;33m=\u001b[0m \u001b[0my\u001b[0m \u001b[1;33m+\u001b[0m \u001b[0mz\u001b[0m\u001b[1;33m\u001b[0m\u001b[1;33m\u001b[0m\u001b[0m\n\u001b[0;32m      2\u001b[0m \u001b[0mpdb\u001b[0m\u001b[1;33m.\u001b[0m\u001b[0mset_trace\u001b[0m\u001b[1;33m(\u001b[0m\u001b[1;33m)\u001b[0m\u001b[1;33m\u001b[0m\u001b[1;33m\u001b[0m\u001b[0m\n\u001b[1;32m----> 3\u001b[1;33m \u001b[0mresult_two\u001b[0m \u001b[1;33m=\u001b[0m \u001b[0mx\u001b[0m \u001b[1;33m+\u001b[0m \u001b[0my\u001b[0m \u001b[1;31m# Will give an error\u001b[0m\u001b[1;33m\u001b[0m\u001b[1;33m\u001b[0m\u001b[0m\n\u001b[0m\u001b[0;32m      4\u001b[0m \u001b[1;31m# often you will use print functions to try and debug\u001b[0m\u001b[1;33m\u001b[0m\u001b[1;33m\u001b[0m\u001b[1;33m\u001b[0m\u001b[0m\n",
      "\u001b[1;31mTypeError\u001b[0m: can only concatenate list (not \"int\") to list"
     ]
    }
   ],
   "source": [
    "result_one = y + z\n",
    "pdb.set_trace() # you can check variables midscript\n",
    "result_two = x + y # Will give an error\n",
    "# often you will use print functions to try and debug"
   ]
  },
  {
   "cell_type": "code",
   "execution_count": null,
   "id": "bb5fcb28",
   "metadata": {},
   "outputs": [],
   "source": []
  },
  {
   "cell_type": "code",
   "execution_count": null,
   "id": "862655be",
   "metadata": {},
   "outputs": [],
   "source": []
  },
  {
   "cell_type": "markdown",
   "id": "fd02ec36",
   "metadata": {},
   "source": [
    "# Python regular expressions\n",
    "If you're looking for a particular datatype then you can search for it using a regex pattern"
   ]
  },
  {
   "cell_type": "code",
   "execution_count": 7,
   "id": "c2d38cc2",
   "metadata": {},
   "outputs": [],
   "source": [
    "# seartching for basic patterns\n",
    "text = \"The agent's phone number is 864-448-8590, call soon buddy\""
   ]
  },
  {
   "cell_type": "code",
   "execution_count": 9,
   "id": "13a9ff0d",
   "metadata": {},
   "outputs": [
    {
     "data": {
      "text/plain": [
       "True"
      ]
     },
     "execution_count": 9,
     "metadata": {},
     "output_type": "execute_result"
    }
   ],
   "source": [
    "'phone' in text # check is a specic string is in the text"
   ]
  },
  {
   "cell_type": "code",
   "execution_count": 10,
   "id": "0c0432f5",
   "metadata": {},
   "outputs": [],
   "source": [
    "import re"
   ]
  },
  {
   "cell_type": "code",
   "execution_count": 11,
   "id": "4702ed10",
   "metadata": {},
   "outputs": [],
   "source": [
    "pattern = 'phone'"
   ]
  },
  {
   "cell_type": "code",
   "execution_count": 12,
   "id": "3765da86",
   "metadata": {},
   "outputs": [
    {
     "data": {
      "text/plain": [
       "<re.Match object; span=(12, 17), match='phone'>"
      ]
     },
     "execution_count": 12,
     "metadata": {},
     "output_type": "execute_result"
    }
   ],
   "source": [
    "re.search(pattern, text ) #search for the pattern and the index"
   ]
  },
  {
   "cell_type": "code",
   "execution_count": 13,
   "id": "44adcea2",
   "metadata": {},
   "outputs": [],
   "source": [
    "pattern = 'Not in text'"
   ]
  },
  {
   "cell_type": "code",
   "execution_count": 15,
   "id": "e0078141",
   "metadata": {},
   "outputs": [],
   "source": [
    "re.search(pattern, text ) # Search new pattern\n",
    "# This returns none because there is no match"
   ]
  },
  {
   "cell_type": "code",
   "execution_count": 16,
   "id": "fcf11dfd",
   "metadata": {},
   "outputs": [],
   "source": [
    "pattern = 'phone'"
   ]
  },
  {
   "cell_type": "code",
   "execution_count": 19,
   "id": "2ad95aaa",
   "metadata": {},
   "outputs": [
    {
     "data": {
      "text/plain": [
       "<re.Match object; span=(12, 17), match='phone'>"
      ]
     },
     "execution_count": 19,
     "metadata": {},
     "output_type": "execute_result"
    }
   ],
   "source": [
    "match = re.search(pattern,text) #returns the first match\n",
    "match"
   ]
  },
  {
   "cell_type": "code",
   "execution_count": 20,
   "id": "133a371e",
   "metadata": {},
   "outputs": [
    {
     "data": {
      "text/plain": [
       "(12, 17)"
      ]
     },
     "execution_count": 20,
     "metadata": {},
     "output_type": "execute_result"
    }
   ],
   "source": [
    "match.span() # Span of the match"
   ]
  },
  {
   "cell_type": "code",
   "execution_count": 21,
   "id": "2d30576f",
   "metadata": {},
   "outputs": [
    {
     "data": {
      "text/plain": [
       "12"
      ]
     },
     "execution_count": 21,
     "metadata": {},
     "output_type": "execute_result"
    }
   ],
   "source": [
    "match.start() #start"
   ]
  },
  {
   "cell_type": "code",
   "execution_count": 22,
   "id": "c625495f",
   "metadata": {},
   "outputs": [
    {
     "data": {
      "text/plain": [
       "17"
      ]
     },
     "execution_count": 22,
     "metadata": {},
     "output_type": "execute_result"
    }
   ],
   "source": [
    "match.end() #end"
   ]
  },
  {
   "cell_type": "code",
   "execution_count": 27,
   "id": "4d278e94",
   "metadata": {},
   "outputs": [],
   "source": [
    "# To return multiple matches\n",
    "text= 'phone once and phone twice'"
   ]
  },
  {
   "cell_type": "code",
   "execution_count": 28,
   "id": "c0d194e5",
   "metadata": {},
   "outputs": [
    {
     "data": {
      "text/plain": [
       "['phone', 'phone']"
      ]
     },
     "execution_count": 28,
     "metadata": {},
     "output_type": "execute_result"
    }
   ],
   "source": [
    "matches = re.findall('phone',text)\n",
    "matches"
   ]
  },
  {
   "cell_type": "code",
   "execution_count": 30,
   "id": "ceeed0bb",
   "metadata": {},
   "outputs": [
    {
     "name": "stdout",
     "output_type": "stream",
     "text": [
      "phone\n",
      "phone\n"
     ]
    }
   ],
   "source": [
    "# can find the matches one by one also\n",
    "for match in re.finditer('phone',text):\n",
    "    print(match.group())"
   ]
  },
  {
   "cell_type": "code",
   "execution_count": 31,
   "id": "9ffde990",
   "metadata": {},
   "outputs": [],
   "source": [
    "text = 'My phone number is 864-448-8590'"
   ]
  },
  {
   "cell_type": "code",
   "execution_count": 37,
   "id": "6373793c",
   "metadata": {},
   "outputs": [
    {
     "data": {
      "text/plain": [
       "<re.Match object; span=(19, 31), match='864-448-8590'>"
      ]
     },
     "execution_count": 37,
     "metadata": {},
     "output_type": "execute_result"
    }
   ],
   "source": [
    "phone = re.search(r'\\d\\d\\d-\\d\\d\\d-\\d\\d\\d\\d',text)\n",
    "phone # will find the match of the pattern"
   ]
  },
  {
   "cell_type": "code",
   "execution_count": 38,
   "id": "241cbb39",
   "metadata": {},
   "outputs": [
    {
     "data": {
      "text/plain": [
       "<function Match.group>"
      ]
     },
     "execution_count": 38,
     "metadata": {},
     "output_type": "execute_result"
    }
   ],
   "source": [
    "phone.group # patches the number"
   ]
  },
  {
   "cell_type": "code",
   "execution_count": 44,
   "id": "4d97ff9e",
   "metadata": {},
   "outputs": [
    {
     "data": {
      "text/plain": [
       "<re.Match object; span=(19, 31), match='864-448-8590'>"
      ]
     },
     "execution_count": 44,
     "metadata": {},
     "output_type": "execute_result"
    }
   ],
   "source": [
    "phone = re.search(r'\\d{3}-\\d{1,3}-\\d{3,}',text)\n",
    "phone # will find the match of the pattern"
   ]
  },
  {
   "cell_type": "code",
   "execution_count": 45,
   "id": "5d1f1de4",
   "metadata": {},
   "outputs": [],
   "source": [
    "# can compile pattern code's too"
   ]
  },
  {
   "cell_type": "code",
   "execution_count": 50,
   "id": "8e0aa6e5",
   "metadata": {},
   "outputs": [
    {
     "data": {
      "text/plain": [
       "'864-448-8590'"
      ]
     },
     "execution_count": 50,
     "metadata": {},
     "output_type": "execute_result"
    }
   ],
   "source": [
    "phone_pattern = re.compile(r'(\\d{3})-(\\d{3})-(\\d{4})')\n",
    "results = re.search(phone_pattern,text)\n",
    "results.group()"
   ]
  },
  {
   "cell_type": "code",
   "execution_count": 51,
   "id": "a0d573eb",
   "metadata": {},
   "outputs": [
    {
     "data": {
      "text/plain": [
       "'864'"
      ]
     },
     "execution_count": 51,
     "metadata": {},
     "output_type": "execute_result"
    }
   ],
   "source": [
    "# can show them 1 by 1 too\n",
    "results.group(1)"
   ]
  },
  {
   "cell_type": "code",
   "execution_count": 52,
   "id": "82a5b213",
   "metadata": {},
   "outputs": [],
   "source": [
    "#additional regex syntax"
   ]
  },
  {
   "cell_type": "code",
   "execution_count": 53,
   "id": "8cc6ec56",
   "metadata": {},
   "outputs": [
    {
     "data": {
      "text/plain": [
       "<re.Match object; span=(4, 7), match='cat'>"
      ]
     },
     "execution_count": 53,
     "metadata": {},
     "output_type": "execute_result"
    }
   ],
   "source": [
    "re.search(r'cat|dog','The cat is here')"
   ]
  },
  {
   "cell_type": "code",
   "execution_count": 54,
   "id": "dde6bc0a",
   "metadata": {},
   "outputs": [
    {
     "data": {
      "text/plain": [
       "['e cat', 'e hat', 'splat']"
      ]
     },
     "execution_count": 54,
     "metadata": {},
     "output_type": "execute_result"
    }
   ],
   "source": [
    "re.findall(r'...at','The cat in the hat went splat buddy.')"
   ]
  },
  {
   "cell_type": "code",
   "execution_count": null,
   "id": "666d3066",
   "metadata": {},
   "outputs": [],
   "source": []
  },
  {
   "cell_type": "code",
   "execution_count": null,
   "id": "6bdaeb56",
   "metadata": {},
   "outputs": [],
   "source": []
  },
  {
   "cell_type": "code",
   "execution_count": null,
   "id": "fb13ab5d",
   "metadata": {},
   "outputs": [],
   "source": []
  },
  {
   "cell_type": "code",
   "execution_count": null,
   "id": "2f9feee1",
   "metadata": {},
   "outputs": [],
   "source": []
  },
  {
   "cell_type": "code",
   "execution_count": 55,
   "id": "d3290239",
   "metadata": {},
   "outputs": [],
   "source": [
    "phrase = 'There are 3 number 34 inside 5 this sentence'"
   ]
  },
  {
   "cell_type": "code",
   "execution_count": 60,
   "id": "6f66e270",
   "metadata": {},
   "outputs": [],
   "source": [
    "pattern = r'[^\\d]+' # exluces this character identifer"
   ]
  },
  {
   "cell_type": "code",
   "execution_count": 61,
   "id": "62ae0fee",
   "metadata": {},
   "outputs": [
    {
     "data": {
      "text/plain": [
       "['There are ', ' number ', ' inside ', ' this sentence']"
      ]
     },
     "execution_count": 61,
     "metadata": {},
     "output_type": "execute_result"
    }
   ],
   "source": [
    "re.findall(pattern,phrase)"
   ]
  },
  {
   "cell_type": "code",
   "execution_count": 62,
   "id": "87b7818a",
   "metadata": {},
   "outputs": [],
   "source": []
  },
  {
   "cell_type": "code",
   "execution_count": null,
   "id": "7051ae29",
   "metadata": {},
   "outputs": [],
   "source": []
  },
  {
   "cell_type": "code",
   "execution_count": null,
   "id": "ca0961b7",
   "metadata": {},
   "outputs": [],
   "source": []
  },
  {
   "cell_type": "code",
   "execution_count": null,
   "id": "72fd7e13",
   "metadata": {},
   "outputs": [],
   "source": []
  },
  {
   "cell_type": "code",
   "execution_count": null,
   "id": "fa311ad4",
   "metadata": {},
   "outputs": [],
   "source": []
  },
  {
   "cell_type": "markdown",
   "id": "aa4f26a7",
   "metadata": {},
   "source": [
    "# tracking the time of a code"
   ]
  },
  {
   "cell_type": "code",
   "execution_count": 63,
   "id": "9b5a72d8",
   "metadata": {},
   "outputs": [],
   "source": [
    "#timeit module"
   ]
  },
  {
   "cell_type": "code",
   "execution_count": 82,
   "id": "c6c99e35",
   "metadata": {},
   "outputs": [],
   "source": [
    "def num(n):\n",
    "    return [str(num) for num in range(n)]"
   ]
  },
  {
   "cell_type": "code",
   "execution_count": 83,
   "id": "fe003679",
   "metadata": {},
   "outputs": [
    {
     "data": {
      "text/plain": [
       "['0', '1', '2', '3', '4', '5', '6', '7', '8', '9']"
      ]
     },
     "execution_count": 83,
     "metadata": {},
     "output_type": "execute_result"
    }
   ],
   "source": [
    "num(10)"
   ]
  },
  {
   "cell_type": "code",
   "execution_count": 84,
   "id": "bff78334",
   "metadata": {},
   "outputs": [],
   "source": [
    "def num2(n):\n",
    "    return list(map(str,range(n)))"
   ]
  },
  {
   "cell_type": "code",
   "execution_count": 85,
   "id": "b979ba74",
   "metadata": {},
   "outputs": [
    {
     "data": {
      "text/plain": [
       "['0', '1', '2', '3', '4', '5', '6', '7', '8', '9']"
      ]
     },
     "execution_count": 85,
     "metadata": {},
     "output_type": "execute_result"
    }
   ],
   "source": [
    "num2(10)"
   ]
  },
  {
   "cell_type": "code",
   "execution_count": 86,
   "id": "a4b8aa16",
   "metadata": {},
   "outputs": [],
   "source": [
    "# which one of these is faster"
   ]
  },
  {
   "cell_type": "code",
   "execution_count": 87,
   "id": "7713f4d2",
   "metadata": {},
   "outputs": [],
   "source": [
    "import time"
   ]
  },
  {
   "cell_type": "code",
   "execution_count": 101,
   "id": "3a42b2d6",
   "metadata": {},
   "outputs": [
    {
     "name": "stdout",
     "output_type": "stream",
     "text": [
      "0.0010013580322265625 s\n"
     ]
    }
   ],
   "source": [
    "# get current time\n",
    "start_time = time.time()\n",
    "\n",
    "#run code\n",
    "result = num(1000)\n",
    "#time after code\n",
    "end_time = time.time()\n",
    "#elapsed time\n",
    "print(str(end_time-start_time) + ' s')"
   ]
  },
  {
   "cell_type": "code",
   "execution_count": 102,
   "id": "0a8cd00b",
   "metadata": {},
   "outputs": [
    {
     "name": "stdout",
     "output_type": "stream",
     "text": [
      "0.0010008811950683594 s\n"
     ]
    }
   ],
   "source": [
    "# get current time\n",
    "start_time = time.time()\n",
    "\n",
    "#run code\n",
    "result = num2(1000)\n",
    "#time after code\n",
    "end_time = time.time()\n",
    "#elapsed time\n",
    "print(str(end_time-start_time) + ' s')"
   ]
  },
  {
   "cell_type": "code",
   "execution_count": 103,
   "id": "646efdc6",
   "metadata": {},
   "outputs": [],
   "source": [
    "# time module is not that accurate, more accurate is timeit"
   ]
  },
  {
   "cell_type": "code",
   "execution_count": 104,
   "id": "c9e602fb",
   "metadata": {},
   "outputs": [],
   "source": [
    "import timeit\n",
    "timeit.timeit #shift+tab to view help"
   ]
  },
  {
   "cell_type": "code",
   "execution_count": 105,
   "id": "cc82337b",
   "metadata": {},
   "outputs": [],
   "source": [
    "stmt = '''\n",
    "func_one(100)\n",
    "'''"
   ]
  },
  {
   "cell_type": "code",
   "execution_count": 110,
   "id": "8797729f",
   "metadata": {},
   "outputs": [],
   "source": [
    "setup = '''\n",
    "def func_one(n):\n",
    "    return [str(num) for num in range(n)]\n",
    "'''"
   ]
  },
  {
   "cell_type": "code",
   "execution_count": 111,
   "id": "506cecb9",
   "metadata": {},
   "outputs": [
    {
     "data": {
      "text/plain": [
       "1.5366284999981872"
      ]
     },
     "execution_count": 111,
     "metadata": {},
     "output_type": "execute_result"
    }
   ],
   "source": [
    "timeit.timeit(stmt,setup,number=100000) #this is the closer comparision"
   ]
  },
  {
   "cell_type": "code",
   "execution_count": 118,
   "id": "e8e51665",
   "metadata": {},
   "outputs": [],
   "source": [
    "stmt = '''\n",
    "func_two(100) #this is the number of runs to compare\n",
    "'''"
   ]
  },
  {
   "cell_type": "code",
   "execution_count": 119,
   "id": "57f1cbed",
   "metadata": {},
   "outputs": [],
   "source": [
    "setup = '''\n",
    "def func_two(n):\n",
    "    return list(map(str,range(n)))\n",
    "'''"
   ]
  },
  {
   "cell_type": "code",
   "execution_count": 120,
   "id": "02ff6617",
   "metadata": {},
   "outputs": [
    {
     "data": {
      "text/plain": [
       "1.3378747000024305"
      ]
     },
     "execution_count": 120,
     "metadata": {},
     "output_type": "execute_result"
    }
   ],
   "source": [
    "timeit.timeit(stmt,setup,number=100000) #this is the closer comparision"
   ]
  },
  {
   "cell_type": "code",
   "execution_count": 121,
   "id": "4afe3c3a",
   "metadata": {},
   "outputs": [],
   "source": [
    "#timeit module documentation availible online"
   ]
  },
  {
   "cell_type": "code",
   "execution_count": null,
   "id": "5fc3cd92",
   "metadata": {},
   "outputs": [],
   "source": []
  },
  {
   "cell_type": "markdown",
   "id": "c522a0ee",
   "metadata": {},
   "source": [
    "# Zipping and unzipping files\n",
    "In this section we: zip files, unzip files, etc."
   ]
  },
  {
   "cell_type": "code",
   "execution_count": 123,
   "id": "7900fffa",
   "metadata": {},
   "outputs": [],
   "source": [
    "#create indiviudual files\n",
    "f=open('fileone.txt','w+')\n",
    "f.write('One File')\n",
    "f.close()"
   ]
  },
  {
   "cell_type": "code",
   "execution_count": 124,
   "id": "bdac5b46",
   "metadata": {},
   "outputs": [],
   "source": [
    "f=open('filetwo.txt','w+')\n",
    "f.write('Two File')\n",
    "f.close()\n"
   ]
  },
  {
   "cell_type": "code",
   "execution_count": 126,
   "id": "41ad1c09",
   "metadata": {},
   "outputs": [],
   "source": [
    "import zipfile "
   ]
  },
  {
   "cell_type": "code",
   "execution_count": 129,
   "id": "4cb357d5",
   "metadata": {},
   "outputs": [],
   "source": [
    "comp_file = zipfile.ZipFile('comp_file.zip','w')"
   ]
  },
  {
   "cell_type": "code",
   "execution_count": 130,
   "id": "9120e604",
   "metadata": {},
   "outputs": [],
   "source": [
    "comp_file.write('fileone.txt',compress_type=zipfile.ZIP_DEFLATED)"
   ]
  },
  {
   "cell_type": "code",
   "execution_count": 132,
   "id": "48284066",
   "metadata": {},
   "outputs": [],
   "source": [
    "comp_file.write('filetwo.txt',compress_type=zipfile.ZIP_DEFLATED)"
   ]
  },
  {
   "cell_type": "code",
   "execution_count": 133,
   "id": "084cc0e5",
   "metadata": {},
   "outputs": [],
   "source": [
    "comp_file.close()"
   ]
  },
  {
   "cell_type": "code",
   "execution_count": 134,
   "id": "4ffc7661",
   "metadata": {},
   "outputs": [],
   "source": [
    "zip_object = zipfile.ZipFile('comp_file.zip','r')"
   ]
  },
  {
   "cell_type": "code",
   "execution_count": 135,
   "id": "2d338fc6",
   "metadata": {},
   "outputs": [],
   "source": [
    "zip_object.extractall('extracted_content') #create a new folder called extracted content with the compressed data\n",
    "#use shift tab for options"
   ]
  },
  {
   "cell_type": "code",
   "execution_count": 136,
   "id": "04988b12",
   "metadata": {},
   "outputs": [],
   "source": [
    "# built in zip file library with Python"
   ]
  },
  {
   "cell_type": "code",
   "execution_count": 137,
   "id": "8ef201eb",
   "metadata": {},
   "outputs": [
    {
     "data": {
      "text/plain": [
       "'C:\\\\Users\\\\minha\\\\OneDrive - Clemson University\\\\Complete-Python-3-Bootcamp-master'"
      ]
     },
     "execution_count": 137,
     "metadata": {},
     "output_type": "execute_result"
    }
   ],
   "source": [
    "pwd"
   ]
  },
  {
   "cell_type": "code",
   "execution_count": 138,
   "id": "fed90084",
   "metadata": {},
   "outputs": [],
   "source": [
    "import shutil"
   ]
  },
  {
   "cell_type": "code",
   "execution_count": 139,
   "id": "26fc6947",
   "metadata": {},
   "outputs": [],
   "source": [
    "dir_to_zip = 'C:\\\\Users\\\\minha\\\\OneDrive - Clemson University\\\\Complete-Python-3-Bootcamp-master\\\\extracted_content'"
   ]
  },
  {
   "cell_type": "code",
   "execution_count": 140,
   "id": "08846937",
   "metadata": {},
   "outputs": [],
   "source": [
    "output_filename = 'example_file'"
   ]
  },
  {
   "cell_type": "code",
   "execution_count": 142,
   "id": "042dd9a3",
   "metadata": {},
   "outputs": [
    {
     "data": {
      "text/plain": [
       "'C:\\\\Users\\\\minha\\\\OneDrive - Clemson University\\\\Complete-Python-3-Bootcamp-master\\\\example_file.zip'"
      ]
     },
     "execution_count": 142,
     "metadata": {},
     "output_type": "execute_result"
    }
   ],
   "source": [
    "shutil.make_archive(output_filename,'zip',dir_to_zip)"
   ]
  },
  {
   "cell_type": "code",
   "execution_count": 145,
   "id": "9ab5b722",
   "metadata": {},
   "outputs": [],
   "source": [
    "shutil.unpack_archive('example_file.zip','final_unzip','zip')"
   ]
  },
  {
   "cell_type": "code",
   "execution_count": null,
   "id": "7ef60e33",
   "metadata": {},
   "outputs": [],
   "source": []
  }
 ],
 "metadata": {
  "kernelspec": {
   "display_name": "Python 3",
   "language": "python",
   "name": "python3"
  },
  "language_info": {
   "codemirror_mode": {
    "name": "ipython",
    "version": 3
   },
   "file_extension": ".py",
   "mimetype": "text/x-python",
   "name": "python",
   "nbconvert_exporter": "python",
   "pygments_lexer": "ipython3",
   "version": "3.8.8"
  }
 },
 "nbformat": 4,
 "nbformat_minor": 5
}
